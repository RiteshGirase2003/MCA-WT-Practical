{
 "cells": [
  {
   "cell_type": "code",
   "execution_count": 1,
   "metadata": {},
   "outputs": [
    {
     "data": {
      "text/plain": [
       "InsertManyResult([ObjectId('6720670fdd8cbcd1ace9e951'), ObjectId('6720670fdd8cbcd1ace9e952'), ObjectId('6720670fdd8cbcd1ace9e953'), ObjectId('6720670fdd8cbcd1ace9e954'), ObjectId('6720670fdd8cbcd1ace9e955')], acknowledged=True)"
      ]
     },
     "execution_count": 1,
     "metadata": {},
     "output_type": "execute_result"
    }
   ],
   "source": [
    "from pymongo import MongoClient\n",
    "\n",
    "# Connect to MongoDB\n",
    "client = MongoClient(\"mongodb://localhost:27017/\")\n",
    "db = client[\"MCA_WT\"]\n",
    "\n",
    "# Collections\n",
    "items = db['items']\n",
    "warehouses = db['warehouses']\n",
    "items.delete_many({})\n",
    "warehouses.delete_many({})\n",
    "# Sample items data\n",
    "items_data = [\n",
    "    {\"item_id\": 1, \"name\": \"Planner\", \"quantity\": 350, \"height\": 10, \"status\": \"A\", \"tags\": 3},\n",
    "    {\"item_id\": 2, \"name\": \"Notebook\", \"quantity\": 150, \"height\": 5, \"status\": \"B\", \"tags\": 2},\n",
    "    {\"item_id\": 3, \"name\": \"Pencil\", \"quantity\": 450, \"height\": 6, \"status\": \"A\", \"tags\": 1},\n",
    "    {\"item_id\": 4, \"name\": \"Eraser\", \"quantity\": 30, \"height\": 4, \"status\": \"B\", \"tags\": 4},\n",
    "    {\"item_id\": 5, \"name\": \"Marker\", \"quantity\": 200, \"height\": 7, \"status\": \"A\", \"tags\": 6},\n",
    "]\n",
    "\n",
    "# Insert items\n",
    "items.insert_many(items_data)\n",
    "\n",
    "# Sample warehouses data\n",
    "warehouses_data = [\n",
    "    {\"warehouse_id\": 1, \"location\": \"Warehouse A\", \"items\": [{\"item_id\": 1, \"stock_quantity\": 10}, {\"item_id\": 2, \"stock_quantity\": 50}]},\n",
    "    {\"warehouse_id\": 2, \"location\": \"Warehouse B\", \"items\": [{\"item_id\": 3, \"stock_quantity\": 15}, {\"item_id\": 4, \"stock_quantity\": 5}]},\n",
    "    {\"warehouse_id\": 3, \"location\": \"Warehouse C\", \"items\": [{\"item_id\": 5, \"stock_quantity\": 25}, {\"item_id\": 1, \"stock_quantity\": 5}]},\n",
    "    {\"warehouse_id\": 4, \"location\": \"Warehouse D\", \"items\": [{\"item_id\": 2, \"stock_quantity\": 100}]},\n",
    "    {\"warehouse_id\": 5, \"location\": \"Warehouse E\", \"items\": [{\"item_id\": 3, \"stock_quantity\": 300}, {\"item_id\": 4, \"stock_quantity\": 15}]},\n",
    "]\n",
    "\n",
    "# Insert warehouses\n",
    "warehouses.insert_many(warehouses_data)\n"
   ]
  },
  {
   "cell_type": "code",
   "execution_count": 6,
   "metadata": {},
   "outputs": [
    {
     "name": "stdout",
     "output_type": "stream",
     "text": [
      "Planner\n",
      "Pencil\n"
     ]
    }
   ],
   "source": [
    "# List all the items where quantity is greater than 300\n",
    "\n",
    "# Query for items with quantity greater than 300\n",
    "result_a = items.find({\"quantity\": {\"$gt\": 300}})\n",
    "for item in result_a:\n",
    "    print(item['name'])"
   ]
  },
  {
   "cell_type": "code",
   "execution_count": 7,
   "metadata": {},
   "outputs": [
    {
     "name": "stdout",
     "output_type": "stream",
     "text": [
      "Planner\n",
      "Notebook\n",
      "Pencil\n",
      "Eraser\n"
     ]
    }
   ],
   "source": [
    "#  List all items which have tags less than 5\n",
    "\n",
    "# Query for items with tags less than 5\n",
    "result_b = items.find({\"tags\": {\"$lt\": 5}})\n",
    "for item in result_b:\n",
    "    print(item['name'])"
   ]
  },
  {
   "cell_type": "code",
   "execution_count": 8,
   "metadata": {},
   "outputs": [
    {
     "name": "stdout",
     "output_type": "stream",
     "text": [
      "{'_id': ObjectId('6720670fdd8cbcd1ace9e94d'), 'item_id': 2, 'name': 'Notebook', 'quantity': 150, 'height': 5, 'status': 'B', 'tags': 2}\n",
      "{'_id': ObjectId('6720670fdd8cbcd1ace9e94f'), 'item_id': 4, 'name': 'Eraser', 'quantity': 30, 'height': 4, 'status': 'B', 'tags': 4}\n"
     ]
    }
   ],
   "source": [
    "# List all items having status equal to “B” or having quantity less than 50 and height of the product should be greater than 8\n",
    "\n",
    "# Query for items with -> status \"B\" or (quantity < 50 and height > 8)\n",
    "                        # -> ( status 'B' or quantity < 50) and height > 8\n",
    "result_c = items.find({\n",
    "    \"$or\": [\n",
    "        {\"status\": \"B\"},\n",
    "        {\"$and\": [{\"quantity\": {\"$lt\": 50}}, {\"height\": {\"$gt\": 8}}]}\n",
    "    ]\n",
    "})\n",
    "\n",
    "\n",
    "for item in result_c:\n",
    "    print(item)"
   ]
  },
  {
   "cell_type": "code",
   "execution_count": 5,
   "metadata": {},
   "outputs": [
    {
     "name": "stdout",
     "output_type": "stream",
     "text": [
      "{'_id': ObjectId('6720670fdd8cbcd1ace9e951'), 'warehouse_id': 1, 'location': 'Warehouse A', 'items': [{'item_id': 1, 'stock_quantity': 10}, {'item_id': 2, 'stock_quantity': 50}]}\n",
      "{'_id': ObjectId('6720670fdd8cbcd1ace9e953'), 'warehouse_id': 3, 'location': 'Warehouse C', 'items': [{'item_id': 5, 'stock_quantity': 25}, {'item_id': 1, 'stock_quantity': 5}]}\n"
     ]
    }
   ],
   "source": [
    "#  Find all warehouses that keep item “Planner” and have stock quantity less than 20\n",
    "# $elemMatch is a MongoDB operator used to query documents that contain an array with at least one element matching specified criteria.\n",
    "# It helps filter results based on conditions that apply to the properties of the elements within an array.\n",
    "# It can match single or multiple conditions for elements in an array.\n",
    "\n",
    "\n",
    "# Query for warehouses that keep item \"Planner\" with stock quantity less than 20\n",
    "result_d = warehouses.find({\n",
    "    \"items\": {\n",
    "        \"$elemMatch\": {\n",
    "            \"item_id\": 1,  # Assuming the item_id for \"Planner\" is 1\n",
    "            \"stock_quantity\": {\"$lt\": 20}\n",
    "        }\n",
    "    }\n",
    "})\n",
    "for warehouse in result_d:\n",
    "    print(warehouse)"
   ]
  },
  {
   "cell_type": "code",
   "execution_count": 10,
   "metadata": {},
   "outputs": [
    {
     "name": "stdout",
     "output_type": "stream",
     "text": [
      "{'item_id': 1, 'stock_quantity': 10}\n"
     ]
    }
   ],
   "source": [
    "lst = [{\"item_id\": 1, \"stock_quantity\": 10}, {\"item_id\": 2, \"stock_quantity\": 50}]\n",
    "\n",
    "for record in lst:\n",
    "    if record['item_id'] == 1 and record['stock_quantity'] < 20:\n",
    "        print(record)"
   ]
  },
  {
   "cell_type": "code",
   "execution_count": null,
   "metadata": {},
   "outputs": [],
   "source": []
  }
 ],
 "metadata": {
  "kernelspec": {
   "display_name": "Python 3",
   "language": "python",
   "name": "python3"
  },
  "language_info": {
   "codemirror_mode": {
    "name": "ipython",
    "version": 3
   },
   "file_extension": ".py",
   "mimetype": "text/x-python",
   "name": "python",
   "nbconvert_exporter": "python",
   "pygments_lexer": "ipython3",
   "version": "3.11.2"
  }
 },
 "nbformat": 4,
 "nbformat_minor": 2
}
