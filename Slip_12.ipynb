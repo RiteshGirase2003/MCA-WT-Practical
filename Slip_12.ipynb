{
 "cells": [
  {
   "cell_type": "code",
   "execution_count": 14,
   "metadata": {},
   "outputs": [
    {
     "data": {
      "text/plain": [
       "InsertManyResult([1, 2, 3], acknowledged=True)"
      ]
     },
     "execution_count": 14,
     "metadata": {},
     "output_type": "execute_result"
    }
   ],
   "source": [
    "from pymongo import MongoClient\n",
    "\n",
    "# Connect to MongoDB\n",
    "client = MongoClient(\"mongodb://localhost:27017/\")\n",
    "db = client[\"MCA_WT\"]\n",
    "\n",
    "# Define collections\n",
    "movies_collection = db[\"movies\"]\n",
    "actors_collection = db[\"actors\"]\n",
    "producers_collection = db[\"producers\"]\n",
    "\n",
    "# Drop collections if they exist for a clean start\n",
    "movies_collection.drop()\n",
    "actors_collection.drop()\n",
    "producers_collection.drop()\n",
    "\n",
    "# Sample Data for Movies\n",
    "movies_data = [\n",
    "    {\n",
    "        \"_id\": 1,\n",
    "        \"title\": \"Action Thriller\",\n",
    "        \"budget\": 5000000,\n",
    "        \"release_year\": 2022,\n",
    "        \"actors\": [{\"name\": \"Akshay\", \"role\": \"Lead\"}, {\"name\": \"Rohit\", \"role\": \"Supporting\"}],\n",
    "        \"producers\": [\"Rajesh\", \"Vikram\"]\n",
    "    },\n",
    "    {\n",
    "        \"_id\": 2,\n",
    "        \"title\": \"Romantic Comedy\",\n",
    "        \"budget\": 3000000,\n",
    "        \"release_year\": 2021,\n",
    "        \"actors\": [{\"name\": \"Akshay\", \"role\": \"Lead\"}, {\"name\": \"Priya\", \"role\": \"Supporting\"}],\n",
    "        \"producers\": [\"Rajesh\"]\n",
    "    },\n",
    "    {\n",
    "        \"_id\": 3,\n",
    "        \"title\": \"Drama Story\",\n",
    "        \"budget\": 7000000,\n",
    "        \"release_year\": 2023,\n",
    "        \"actors\": [{\"name\": \"Rohit\", \"role\": \"Lead\"}, {\"name\": \"Akshay\", \"role\": \"Supporting\"}],\n",
    "        \"producers\": [\"Vikram\", \"Sonal\",\"Rajesh\"]\n",
    "    },\n",
    "    {\n",
    "        \"_id\": 4,\n",
    "        \"title\": \"Horror Nights\",\n",
    "        \"budget\": 4000000,\n",
    "        \"release_year\": 2022,\n",
    "        \"actors\": [{\"name\": \"Priya\", \"role\": \"Lead\"}, {\"name\": \"Akshay\", \"role\": \"Supporting\"}],\n",
    "        \"producers\": [\"Sonal\"]\n",
    "    },\n",
    "    {\n",
    "        \"_id\": 5,\n",
    "        \"title\": \"Sci-Fi Adventure\",\n",
    "        \"budget\": 8000000,\n",
    "        \"release_year\": 2023,\n",
    "        \"actors\": [{\"name\": \"Rohit\", \"role\": \"Lead\"}, {\"name\": \"Priya\", \"role\": \"Supporting\"}],\n",
    "        \"producers\": [\"Rajesh\", \"Sonal\",\"Rajesh\",\"Rajesh\"]\n",
    "    }\n",
    "]\n",
    "\n",
    "# Sample Data for Actors\n",
    "actors_data = [\n",
    "    {\"_id\": 1, \"name\": \"Akshay\", \"movies\": [\"Action Thriller\", \"Romantic Comedy\", \"Drama Story\", \"Horror Nights\"]},\n",
    "    {\"_id\": 2, \"name\": \"Rohit\", \"movies\": [\"Action Thriller\", \"Drama Story\", \"Sci-Fi Adventure\"]},\n",
    "    {\"_id\": 3, \"name\": \"Priya\", \"movies\": [\"Romantic Comedy\", \"Horror Nights\", \"Sci-Fi Adventure\"]}\n",
    "]\n",
    "\n",
    "# Sample Data for Producers\n",
    "producers_data = [\n",
    "    {\"_id\": 1, \"name\": \"Rajesh\", \"movies\": [\"Action Thriller\", \"Romantic Comedy\", \"Sci-Fi Adventure\"]},\n",
    "    {\"_id\": 2, \"name\": \"Vikram\", \"movies\": [\"Action Thriller\", \"Drama Story\"]},\n",
    "    {\"_id\": 3, \"name\": \"Sonal\", \"movies\": [\"Drama Story\", \"Horror Nights\", \"Sci-Fi Adventure\"]}\n",
    "]\n",
    "\n",
    "# Insert Data into Collections\n",
    "movies_collection.insert_many(movies_data)\n",
    "actors_collection.insert_many(actors_data)\n",
    "producers_collection.insert_many(producers_data)\n"
   ]
  },
  {
   "cell_type": "code",
   "execution_count": 15,
   "metadata": {},
   "outputs": [
    {
     "name": "stdout",
     "output_type": "stream",
     "text": [
      "{'_id': 5, 'title': 'Sci-Fi Adventure', 'budget': 8000000, 'release_year': 2023, 'actors': [{'name': 'Rohit', 'role': 'Lead'}, {'name': 'Priya', 'role': 'Supporting'}], 'producers': ['Rajesh', 'Sonal', 'Rajesh', 'Rajesh']}\n",
      "8000000\n",
      "Sci-Fi Adventure\n"
     ]
    }
   ],
   "source": [
    "# Query (a): List the names of movies with the highest budget.\n",
    "\n",
    "# Find the movie(s) with the highest budget\n",
    "highest_budget_movie = movies_collection.find_one(sort=[(\"budget\", -1)])\n",
    "print(highest_budget_movie)\n",
    "highest_budget_movie = highest_budget_movie[\"budget\"]\n",
    "print(highest_budget_movie)\n",
    "\n",
    "highest_budget_movies = list(movies_collection.find({\"budget\": highest_budget_movie}, {\"title\": 1, \"_id\": 0}))\n",
    "for movie in highest_budget_movies:\n",
    "    print(movie[\"title\"])"
   ]
  },
  {
   "cell_type": "code",
   "execution_count": 16,
   "metadata": {},
   "outputs": [
    {
     "name": "stdout",
     "output_type": "stream",
     "text": [
      "{'_id': 'Vikram', 'movie_count': 2}\n",
      "{'_id': 'Sonal', 'movie_count': 3}\n",
      "{'_id': 'Rajesh', 'movie_count': 3}\n"
     ]
    }
   ],
   "source": [
    "# Query (b): Display the details of producers who have produced more than one movie in a year.\n",
    "\n",
    "# Find producers who have produced more than one movie\n",
    "producers_with_multiple_movies = list(producers_collection.aggregate([\n",
    "    {\"$unwind\": \"$movies\"},\n",
    "    # group the documents by the name field\n",
    "    # \"movie_count\": {\"$sum\": 1}: This calculates the number of movies for each producer \n",
    "    # by summing up 1 for each document (or \"movie\") that belongs to a particular name.\n",
    "    {\"$group\": {\"_id\": \"$name\", \"movie_count\": {\"$sum\": 1}}},\n",
    "    {\"$match\": {\"movie_count\": {\"$gt\": 1}}}\n",
    "]))\n",
    "\n",
    "for producer in producers_with_multiple_movies:\n",
    "    print(producer)\n",
    "\n",
    "\n",
    "# before unwind\n",
    "# {\n",
    "#     \"_id\": 1,\n",
    "#     \"name\": \"Rajesh\",\n",
    "#     \"movies\": [\"Action Thriller\", \"Romantic Comedy\", \"Sci-Fi Adventure\"]\n",
    "# }\n",
    "# {\n",
    "#     \"_id\": 2,\n",
    "#     \"name\": \"Akhilesh\",\n",
    "#     \"movies\": [ \"Comedy\", \"Adventure\"]\n",
    "# }\n",
    "\n",
    "\n",
    "# after unwind\n",
    "# [\n",
    "#     { \"_id\": 1, \"name\": \"Rajesh\", \"movies\": \"Action Thriller\" },\n",
    "#     { \"_id\": 1, \"name\": \"Rajesh\", \"movies\": \"Romantic Comedy\" },\n",
    "#     { \"_id\": 1, \"name\": \"Rajesh\", \"movies\": \"Sci-Fi Adventure\" },\n",
    "#     { \"_id\": 2, \"name\": \"Rajesh\", \"movies\": \"Comedy\" },\n",
    "#     { \"_id\": 2, \"name\": \"Rajesh\", \"movies\": \"Adventure\" },\n",
    "# ]\n"
   ]
  },
  {
   "cell_type": "code",
   "execution_count": 17,
   "metadata": {},
   "outputs": [
    {
     "name": "stdout",
     "output_type": "stream",
     "text": [
      "['Rohit', 'Priya']\n"
     ]
    }
   ],
   "source": [
    "# Query (c): List the names of actors who have acted in at least one movie, in which \"Akshay\" has acted.\n",
    "\n",
    "# Find movies where \"Akshay\" has acted\n",
    "akshay_movies = actors_collection.find_one({\"name\": \"Akshay\"}, {\"movies\": 1})[\"movies\"]\n",
    "\n",
    "# Find all actors who have acted in at least one of these movies\n",
    "actors_in_akshay_movies = list(actors_collection.find({\"movies\": {\"$in\": akshay_movies}}, {\"name\": 1, \"_id\": 0}))\n",
    "\n",
    "# Exclude Akshay's name\n",
    "actors_in_akshay_movies = [actor[\"name\"] for actor in actors_in_akshay_movies if actor[\"name\"] != \"Akshay\"]\n",
    "print(actors_in_akshay_movies)"
   ]
  },
  {
   "cell_type": "code",
   "execution_count": 22,
   "metadata": {},
   "outputs": [
    {
     "name": "stdout",
     "output_type": "stream",
     "text": [
      "Action Thriller\n",
      "Drama Story\n",
      "Sci-Fi Adventure\n"
     ]
    }
   ],
   "source": [
    "# Query (d): List the names of movies produced by more than one producer.\n",
    "\n",
    "# Find movies with more than one producer\n",
    "movies_with_multiple_producers = list(movies_collection.find({\"producers.1\": {\"$exists\": True}}, {\"title\": 1, \"_id\": 0}))\n",
    "for movie in movies_with_multiple_producers:\n",
    "    print(movie[\"title\"])\n",
    "\n",
    "# m = movies_collection.find({},{\"title\":1,\"producers\":1,\"_id\":0})\n",
    "# for movie in m:\n",
    "#     if len(movie[\"producers\"]) > 2:\n",
    "#         print(movie['title'])"
   ]
  },
  {
   "cell_type": "code",
   "execution_count": null,
   "metadata": {},
   "outputs": [],
   "source": []
  },
  {
   "cell_type": "code",
   "execution_count": null,
   "metadata": {},
   "outputs": [],
   "source": []
  },
  {
   "cell_type": "code",
   "execution_count": null,
   "metadata": {},
   "outputs": [],
   "source": []
  },
  {
   "cell_type": "code",
   "execution_count": null,
   "metadata": {},
   "outputs": [],
   "source": []
  }
 ],
 "metadata": {
  "kernelspec": {
   "display_name": "Python 3",
   "language": "python",
   "name": "python3"
  },
  "language_info": {
   "codemirror_mode": {
    "name": "ipython",
    "version": 3
   },
   "file_extension": ".py",
   "mimetype": "text/x-python",
   "name": "python",
   "nbconvert_exporter": "python",
   "pygments_lexer": "ipython3",
   "version": "3.11.2"
  }
 },
 "nbformat": 4,
 "nbformat_minor": 2
}
