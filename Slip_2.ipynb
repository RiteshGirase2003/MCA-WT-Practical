{
 "cells": [
  {
   "cell_type": "code",
   "execution_count": 15,
   "metadata": {},
   "outputs": [
    {
     "name": "stdout",
     "output_type": "stream",
     "text": [
      "Documents inserted successfully.\n"
     ]
    }
   ],
   "source": [
    "from pymongo import MongoClient\n",
    "\n",
    "# Connect to MongoDB\n",
    "client = MongoClient(\"mongodb://localhost:27017/\")\n",
    "db = client[\"MCA_WT\"]\n",
    "\n",
    "# Drop collections if they already exist\n",
    "db.cities.drop()\n",
    "db.publishers.drop()\n",
    "db.newspapers.drop()\n",
    "\n",
    "# Collections\n",
    "cities = db[\"cities\"]\n",
    "publishers = db[\"publishers\"]\n",
    "newspapers = db[\"newspapers\"]\n",
    "\n",
    "cities.delete_many({})\n",
    "publishers.delete_many({})\n",
    "newspapers.delete_many({})\n",
    "\n",
    "# Insert documents in Cities collection\n",
    "cities.insert_many([\n",
    "    {\"city_name\": \"Nashik\", \"state\": \"Maharashtra\"},\n",
    "    {\"city_name\": \"Mumbai\", \"state\": \"Maharashtra\"},\n",
    "    {\"city_name\": \"Ahmedabad\", \"state\": \"Gujarat\"},\n",
    "    {\"city_name\": \"Surat\", \"state\": \"Gujarat\"},\n",
    "    {\"city_name\": \"Pune\", \"state\": \"Maharashtra\"}\n",
    "])\n",
    "\n",
    "# Insert documents in Publishers collection\n",
    "publishers.insert_many([\n",
    "    {\"publisher_name\": \"Times Group\", \"state\": \"Maharashtra\"},\n",
    "    {\"publisher_name\": \"Lokmat\", \"state\": \"Maharashtra\"},\n",
    "    {\"publisher_name\": \"Sandesh\", \"state\": \"Gujarat\"},\n",
    "    {\"publisher_name\": \"Divya Bhaskar\", \"state\": \"Gujarat\"},\n",
    "    {\"publisher_name\": \"Loksatta\", \"state\": \"Maharashtra\"}\n",
    "])\n",
    "\n",
    "# Insert documents in Newspapers collection\n",
    "newspapers.insert_many([\n",
    "    {\"newspaper_name\": \"Maharashtra Times\", \"language\": \"Marathi\", \"city\": \"Mumbai\", \"publisher_id\": \"Times Group\", \"sales\": 30000},\n",
    "    {\"newspaper_name\": \"Lokmat Nashik\", \"language\": \"Marathi\", \"city\": \"Nashik\", \"publisher_id\": \"Lokmat\", \"sales\": 25000},\n",
    "    {\"newspaper_name\": \"Divya Bhaskar\", \"language\": \"Gujarati\", \"city\": \"Ahmedabad\", \"publisher_id\": \"Divya Bhaskar\", \"sales\": 20000},\n",
    "    {\"newspaper_name\": \"Sandesh\", \"language\": \"Gujarati\", \"city\": \"Surat\", \"publisher_id\": \"Sandesh\", \"sales\": 18000},\n",
    "    {\"newspaper_name\": \"Sakal Pune\", \"language\": \"Marathi\", \"city\": \"Pune\", \"publisher_id\": \"Loksatta\", \"sales\": 35000}\n",
    "])\n",
    "\n",
    "print(\"Documents inserted successfully.\")\n"
   ]
  },
  {
   "cell_type": "code",
   "execution_count": 16,
   "metadata": {},
   "outputs": [
    {
     "name": "stdout",
     "output_type": "stream",
     "text": [
      "Newspapers available in Nashik city:\n",
      "{'newspaper_name': 'Lokmat Nashik'}\n"
     ]
    }
   ],
   "source": [
    "# List all newspapers available “NASHIK” city\n",
    "# Query for newspapers in Nashik city\n",
    "nashik_newspapers = newspapers.find({\"city\": \"Nashik\"},{'newspaper_name':1, '_id':0}) \n",
    "print(\"Newspapers available in Nashik city:\")\n",
    "for newspaper in nashik_newspapers:\n",
    "    print(newspaper)\n"
   ]
  },
  {
   "cell_type": "code",
   "execution_count": 4,
   "metadata": {},
   "outputs": [
    {
     "name": "stdout",
     "output_type": "stream",
     "text": [
      "Marathi language newspapers:\n",
      "{'_id': ObjectId('671cfad8c3d686053f92db9c'), 'newspaper_name': 'Maharashtra Times', 'language': 'Marathi', 'city': 'Mumbai', 'publisher_id': 'Times Group', 'sales': 30000}\n",
      "{'_id': ObjectId('671cfad8c3d686053f92db9d'), 'newspaper_name': 'Lokmat Nashik', 'language': 'Marathi', 'city': 'Nashik', 'publisher_id': 'Lokmat', 'sales': 25000}\n",
      "{'_id': ObjectId('671cfad8c3d686053f92dba0'), 'newspaper_name': 'Sakal Pune', 'language': 'Marathi', 'city': 'Pune', 'publisher_id': 'Loksatta', 'sales': 35000}\n"
     ]
    }
   ],
   "source": [
    "# List all the newspaper of “Marathi” language\n",
    "# Query for Marathi language newspapers\n",
    "marathi_newspapers = newspapers.find({\"language\": \"Marathi\"})\n",
    "print(\"Marathi language newspapers:\")\n",
    "for newspaper in marathi_newspapers:\n",
    "    print(newspaper)\n"
   ]
  },
  {
   "cell_type": "code",
   "execution_count": 5,
   "metadata": {},
   "outputs": [
    {
     "name": "stdout",
     "output_type": "stream",
     "text": [
      "Number of publishers in Gujarat: 2\n"
     ]
    }
   ],
   "source": [
    "# Count no. of publishers of “Gujrat” state\n",
    "# Count publishers in Gujarat\n",
    "gujarat_publishers_count = publishers.count_documents({\"state\": \"Gujarat\"})\n",
    "print(\"Number of publishers in Gujarat:\", gujarat_publishers_count)\n"
   ]
  },
  {
   "cell_type": "code",
   "execution_count": 18,
   "metadata": {},
   "outputs": [
    {
     "name": "stdout",
     "output_type": "stream",
     "text": [
      "Newspaper with highest sale in Maharashtra:\n",
      "{'_id': ObjectId('671de28ff083f01c8da3068c'), 'newspaper_name': 'Sakal Pune', 'language': 'Marathi', 'city': 'Pune', 'publisher_id': 'Loksatta', 'sales': 35000}\n"
     ]
    }
   ],
   "source": [
    "# Write a cursor to show newspapers with highest sale in Maharashtra State\n",
    "# Find newspapers with highest sales in Maharashtra\n",
    "highest_sales_maharashtra = newspapers.find({\"city\": {\"$in\": [\"Mumbai\", \"Pune\", \"Nashik\"]}}).sort(\"sales\", -1).limit(1)\n",
    "print(\"Newspaper with highest sale in Maharashtra:\")\n",
    "for newspaper in highest_sales_maharashtra:\n",
    "    print(newspaper)\n"
   ]
  },
  {
   "cell_type": "code",
   "execution_count": null,
   "metadata": {},
   "outputs": [],
   "source": []
  }
 ],
 "metadata": {
  "kernelspec": {
   "display_name": "Python 3",
   "language": "python",
   "name": "python3"
  },
  "language_info": {
   "codemirror_mode": {
    "name": "ipython",
    "version": 3
   },
   "file_extension": ".py",
   "mimetype": "text/x-python",
   "name": "python",
   "nbconvert_exporter": "python",
   "pygments_lexer": "ipython3",
   "version": "3.11.2"
  }
 },
 "nbformat": 4,
 "nbformat_minor": 2
}
