{
 "cells": [
  {
   "cell_type": "code",
   "execution_count": null,
   "metadata": {},
   "outputs": [
    {
     "data": {
      "text/plain": [
       "InsertManyResult([ObjectId('672b7f459bf5e17229558371'), ObjectId('672b7f459bf5e17229558372'), ObjectId('672b7f459bf5e17229558373'), ObjectId('672b7f459bf5e17229558374')], acknowledged=True)"
      ]
     },
     "execution_count": 2,
     "metadata": {},
     "output_type": "execute_result"
    }
   ],
   "source": [
    "from pymongo import MongoClient\n",
    "from bson.objectid import ObjectId\n",
    "\n",
    "# Connect to MongoDB\n",
    "client = MongoClient(\"mongodb://localhost:27017/\")\n",
    "db = client[\"MCA_WT\"]\n",
    "\n",
    "# Dropping existing collections for a clean setup\n",
    "db.students.drop()\n",
    "db.competitions.drop()\n",
    "\n",
    "# Sample Data for Students Collection\n",
    "students_data = [\n",
    "    {\"student_id\": \"S01\", \"name\": \"Alice\", \"class\": \"FY\", \"participated_competitions\": [\"C01\", \"C02\"]},\n",
    "    {\"student_id\": \"S02\", \"name\": \"Bob\", \"class\": \"SY\", \"participated_competitions\": [\"C01\", \"C03\"]},\n",
    "    {\"student_id\": \"S03\", \"name\": \"Charlie\", \"class\": \"FY\", \"participated_competitions\": [\"C02\"]},\n",
    "    {\"student_id\": \"S04\", \"name\": \"David\", \"class\": \"TY\", \"participated_competitions\": [\"C03\", \"C01\"]},\n",
    "    {\"student_id\": \"S05\", \"name\": \"Eve\", \"class\": \"FY\", \"participated_competitions\": [\"C01\", \"C04\"]},\n",
    "    {\"student_id\": \"S06\", \"name\": \"Frank\", \"class\": \"SY\", \"participated_competitions\": [\"C02\", \"C04\"]},\n",
    "    {\"student_id\": \"S07\", \"name\": \"Grace\", \"class\": \"FY\", \"participated_competitions\": [\"C04\", \"C03\"]},\n",
    "    {\"student_id\": \"S08\", \"name\": \"Hank\", \"class\": \"TY\", \"participated_competitions\": [\"C03\"]},\n",
    "    {\"student_id\": \"S09\", \"name\": \"Ivy\", \"class\": \"FY\", \"participated_competitions\": [\"C01\", \"C02\"]},\n",
    "    {\"student_id\": \"S10\", \"name\": \"Jack\", \"class\": \"SY\", \"participated_competitions\": [\"C02\"]}\n",
    "]\n",
    "\n",
    "# Insert Students Data\n",
    "db.students.insert_many(students_data)\n",
    "\n",
    "# Sample Data for Competitions Collection\n",
    "competitions_data = [\n",
    "    {\"competition_id\": \"C01\", \"name\": \"Programming\", \"participants\": [{\"student_id\": \"S01\", \"rank\": 1}, {\"student_id\": \"S02\", \"rank\": 2}, {\"student_id\": \"S04\", \"rank\": 3}, {\"student_id\": \"S05\", \"rank\": 4}]},\n",
    "    {\"competition_id\": \"C02\", \"name\": \"E-Rangoli\", \"participants\": [{\"student_id\": \"S01\", \"rank\": 1}, {\"student_id\": \"S03\", \"rank\": 2}, {\"student_id\": \"S09\", \"rank\": 3}, {\"student_id\": \"S10\", \"rank\": 4}]},\n",
    "    {\"competition_id\": \"C03\", \"name\": \"Debate\", \"participants\": [{\"student_id\": \"S02\", \"rank\": 1}, {\"student_id\": \"S04\", \"rank\": 2}, {\"student_id\": \"S07\", \"rank\": 3}, {\"student_id\": \"S08\", \"rank\": 4}]},\n",
    "    {\"competition_id\": \"C04\", \"name\": \"Quiz\", \"participants\": [{\"student_id\": \"S05\", \"rank\": 1}, {\"student_id\": \"S06\", \"rank\": 2}, {\"student_id\": \"S07\", \"rank\": 3}]}\n",
    "]\n",
    "\n",
    "# Insert Competitions Data\n",
    "db.competitions.insert_many(competitions_data)\n",
    "\n"
   ]
  },
  {
   "cell_type": "code",
   "execution_count": 17,
   "metadata": {},
   "outputs": [
    {
     "name": "stdout",
     "output_type": "stream",
     "text": [
      "Average number of students participating in each competition:\n",
      "{'_id': None, 'average_participation': 3.75}\n"
     ]
    }
   ],
   "source": [
    "# Queries\n",
    "\n",
    "# a. Display average number of students participating in each competition\n",
    "average_participation = db.competitions.aggregate([\n",
    "    {\"$project\": {\"name\": 1, \"average_participants\": {\"$size\": \"$participants\"}}},\n",
    "    {\"$group\": {\"_id\": None, \"average_participation\": {\"$avg\": \"$average_participants\"}}}\n",
    "])\n",
    "\n",
    "print(\"Average number of students participating in each competition:\")\n",
    "for result in average_participation:\n",
    "    print(result)\n",
    "\n",
    "\n",
    "\n",
    "\n",
    "\n",
    "\n",
    "\n"
   ]
  },
  {
   "cell_type": "code",
   "execution_count": 14,
   "metadata": {},
   "outputs": [
    {
     "name": "stdout",
     "output_type": "stream",
     "text": [
      "[{'student_id': 'S01', 'rank': 1}, {'student_id': 'S02', 'rank': 2}, {'student_id': 'S04', 'rank': 3}, {'student_id': 'S05', 'rank': 4}]\n",
      "\n",
      "Number of students in Programming competition: 4\n"
     ]
    }
   ],
   "source": [
    "\n",
    "# b. Find the number of students for Programming competition\n",
    "programming_participation = db.competitions.find_one({\"name\": \"Programming\"})\n",
    "print(programming_participation['participants'])\n",
    "\n",
    "cnt = len(programming_participation['participants'])\n",
    "\n",
    "print(\"\\nNumber of students in Programming competition:\", cnt)"
   ]
  },
  {
   "cell_type": "code",
   "execution_count": 15,
   "metadata": {},
   "outputs": [
    {
     "name": "stdout",
     "output_type": "stream",
     "text": [
      "\n",
      "First three winners of each competition:\n",
      "{'competition_name': 'Programming', 'student_name': 'Alice', 'rank': 1}\n",
      "{'competition_name': 'Programming', 'student_name': 'Bob', 'rank': 2}\n",
      "{'competition_name': 'Programming', 'student_name': 'David', 'rank': 3}\n",
      "{'competition_name': 'E-Rangoli', 'student_name': 'Alice', 'rank': 1}\n",
      "{'competition_name': 'E-Rangoli', 'student_name': 'Charlie', 'rank': 2}\n",
      "{'competition_name': 'E-Rangoli', 'student_name': 'Ivy', 'rank': 3}\n",
      "{'competition_name': 'Debate', 'student_name': 'Bob', 'rank': 1}\n",
      "{'competition_name': 'Debate', 'student_name': 'David', 'rank': 2}\n",
      "{'competition_name': 'Debate', 'student_name': 'Grace', 'rank': 3}\n",
      "{'competition_name': 'Quiz', 'student_name': 'Eve', 'rank': 1}\n",
      "{'competition_name': 'Quiz', 'student_name': 'Frank', 'rank': 2}\n",
      "{'competition_name': 'Quiz', 'student_name': 'Grace', 'rank': 3}\n"
     ]
    }
   ],
   "source": [
    "\n",
    "\n",
    "\n",
    "# c. Display the names of the first three winners of each competition\n",
    "competitions = db.competitions.find()\n",
    "\n",
    "print(\"\\nFirst three winners of each competition:\")\n",
    "for competition in competitions:\n",
    "    competition_name = competition[\"name\"]\n",
    "    \n",
    "    # Directly get the first three participants (assuming they're already in rank order)\n",
    "    top_three_participants = competition[\"participants\"][:3]\n",
    "    \n",
    "    # Fetch student names for the top three participants\n",
    "    for participant in top_three_participants:\n",
    "        student = db.students.find_one({\"student_id\": participant[\"student_id\"]})\n",
    "        if student:\n",
    "            print({\n",
    "                \"competition_name\": competition_name,\n",
    "                \"student_name\": student[\"name\"],\n",
    "                \"rank\": participant[\"rank\"]\n",
    "            })\n",
    "\n",
    "\n"
   ]
  },
  {
   "cell_type": "code",
   "execution_count": 16,
   "metadata": {},
   "outputs": [
    {
     "name": "stdout",
     "output_type": "stream",
     "text": [
      "\n",
      "FY students who participated in 'E-Rangoli' competition:\n",
      "{'student_name': 'Alice', 'class': 'FY'}\n",
      "{'student_name': 'Charlie', 'class': 'FY'}\n",
      "{'student_name': 'Ivy', 'class': 'FY'}\n"
     ]
    }
   ],
   "source": [
    "\n",
    "# d. Display students from class 'FY' who participated in 'E-Rangoli' Competition\n",
    "e_rangoli_competition = db.competitions.find_one({\"name\": \"E-Rangoli\"})\n",
    "\n",
    "print(\"\\nFY students who participated in 'E-Rangoli' competition:\")\n",
    "if e_rangoli_competition:\n",
    "    # Iterate over participants and filter by class 'FY'\n",
    "    for participant in e_rangoli_competition[\"participants\"]:\n",
    "        student = db.students.find_one({\"student_id\": participant[\"student_id\"], \"class\": \"FY\"})\n",
    "        # if student found then only if condition will be True\n",
    "        \n",
    "        if student:\n",
    "            print({\"student_name\": student[\"name\"], \"class\": student[\"class\"]})\n"
   ]
  },
  {
   "cell_type": "code",
   "execution_count": null,
   "metadata": {},
   "outputs": [],
   "source": []
  }
 ],
 "metadata": {
  "kernelspec": {
   "display_name": "Python 3",
   "language": "python",
   "name": "python3"
  },
  "language_info": {
   "codemirror_mode": {
    "name": "ipython",
    "version": 3
   },
   "file_extension": ".py",
   "mimetype": "text/x-python",
   "name": "python",
   "nbconvert_exporter": "python",
   "pygments_lexer": "ipython3",
   "version": "3.11.2"
  }
 },
 "nbformat": 4,
 "nbformat_minor": 2
}
