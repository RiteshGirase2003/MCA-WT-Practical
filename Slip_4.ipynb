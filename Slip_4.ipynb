{
 "cells": [
  {
   "cell_type": "code",
   "execution_count": 10,
   "metadata": {},
   "outputs": [
    {
     "name": "stdout",
     "output_type": "stream",
     "text": [
      "Inserted sample records into each collection.\n"
     ]
    }
   ],
   "source": [
    "from pymongo import MongoClient\n",
    "\n",
    "# Connect to MongoDB\n",
    "client = MongoClient(\"mongodb://localhost:27017/\")\n",
    "db = client[\"MCA_WT\"]\n",
    "\n",
    "# Clear any existing documents in collections\n",
    "db[\"hospitals\"].delete_many({})\n",
    "db[\"doctors\"].delete_many({})\n",
    "db[\"reviews\"].delete_many({})\n",
    "\n",
    "# Insert data into hospitals collection\n",
    "hospitals_data = [\n",
    "    {\"_id\": 1, \"name\": \"Nashik City Hospital\", \"location\": \"Nashik\", \"specializations\": [\"Pediatric\", \"Orthopedic\"], \"rating\": 4.5},\n",
    "    {\"_id\": 2, \"name\": \"Healthy Life Hospital\", \"location\": \"Nashik\", \"specializations\": [\"Gynaec\", \"Orthopedic\"], \"rating\": 4.0},\n",
    "    {\"_id\": 3, \"name\": \"Happy Health Clinic\", \"location\": \"Mumbai\", \"specializations\": [\"Pediatric\", \"Dermatology\"], \"rating\": 3.9},\n",
    "    # Add 7 more hospital records as per requirement\n",
    "]\n",
    "\n",
    "# Insert into doctors collection\n",
    "doctors_data = [\n",
    "    {\"_id\": 1, \"name\": \"Dr. Deshmukh\", \"specialties\": [\"Orthopedic\"], \"hospital_ids\": [1, 2]},\n",
    "    {\"_id\": 2, \"name\": \"Dr. Ahuja\", \"specialties\": [\"Gynaec\"], \"hospital_ids\": [2]},\n",
    "    {\"_id\": 3, \"name\": \"Dr. Mehta\", \"specialties\": [\"Pediatric\"], \"hospital_ids\": [1, 3]},\n",
    "    # Add 7 more doctor records as per requirement\n",
    "]\n",
    "\n",
    "# Insert into reviews collection\n",
    "reviews_data = [\n",
    "    {\"_id\": 1, \"hospital_id\": 1, \"review_text\": \"Great care and service.\", \"rating\": 5, \"reviewer_name\": \"Rahul\"},\n",
    "    {\"_id\": 2, \"hospital_id\": 2, \"review_text\": \"Professional staff and good facilities.\", \"rating\": 4, \"reviewer_name\": \"Sonia\"},\n",
    "    {\"_id\": 3, \"hospital_id\": 3, \"review_text\": \"Good pediatric services.\", \"rating\": 3.5, \"reviewer_name\": \"Amit\"},\n",
    "    # Add 7 more review records as per requirement\n",
    "]\n",
    "\n",
    "# Insert documents into each collection\n",
    "db[\"hospitals\"].insert_many(hospitals_data)\n",
    "db[\"doctors\"].insert_many(doctors_data)\n",
    "db[\"reviews\"].insert_many(reviews_data)\n",
    "\n",
    "print(\"Inserted sample records into each collection.\")\n"
   ]
  },
  {
   "cell_type": "code",
   "execution_count": 11,
   "metadata": {},
   "outputs": [
    {
     "name": "stdout",
     "output_type": "stream",
     "text": [
      "Deleted 1 hospitals with rating < 4.\n"
     ]
    }
   ],
   "source": [
    "# Delete hospitals with a rating less than 4\n",
    "deleted_hospitals = db[\"hospitals\"].delete_many({\"rating\": {\"$lt\": 4}})\n",
    "print(f\"Deleted {deleted_hospitals.deleted_count} hospitals with rating < 4.\")\n"
   ]
  },
  {
   "cell_type": "code",
   "execution_count": 12,
   "metadata": {},
   "outputs": [
    {
     "name": "stdout",
     "output_type": "stream",
     "text": [
      "Deleted 2 doctors who don't specialize in Orthopedic.\n"
     ]
    }
   ],
   "source": [
    "# Delete doctors who don’t have \"Orthopedic\" as a specialty\n",
    "deleted_doctors = db[\"doctors\"].delete_many({\"specialties\": {\"$ne\": \"Orthopedic\"}})\n",
    "print(f\"Deleted {deleted_doctors.deleted_count} doctors who don't specialize in Orthopedic.\")\n"
   ]
  },
  {
   "cell_type": "code",
   "execution_count": 13,
   "metadata": {},
   "outputs": [
    {
     "name": "stdout",
     "output_type": "stream",
     "text": [
      "Deleted 1 reviews with rating < 4.\n"
     ]
    }
   ],
   "source": [
    "\n",
    "# Delete reviews with a rating less than 4\n",
    "deleted_reviews = db[\"reviews\"].delete_many({\"rating\": {\"$lt\": 4}})\n",
    "print(f\"Deleted {deleted_reviews.deleted_count} reviews with rating < 4.\")\n"
   ]
  },
  {
   "cell_type": "code",
   "execution_count": 14,
   "metadata": {},
   "outputs": [
    {
     "name": "stdout",
     "output_type": "stream",
     "text": [
      "Hospitals with specialization Pediatric : ['Nashik City Hospital']\n"
     ]
    }
   ],
   "source": [
    "# List the names of hospitals with a given specialization\n",
    "def list_hospitals_by_specialization(specialization):\n",
    "    result = db[\"hospitals\"].find({\"specializations\": specialization}, {\"name\": 1, \"_id\": 0})\n",
    "    return [hospital[\"name\"] for hospital in result]\n",
    "\n",
    "# Example usage\n",
    "specialization = \"Pediatric\"\n",
    "print(\"Hospitals with specialization\", specialization, \":\", list_hospitals_by_specialization(specialization))\n"
   ]
  },
  {
   "cell_type": "code",
   "execution_count": 15,
   "metadata": {},
   "outputs": [
    {
     "name": "stdout",
     "output_type": "stream",
     "text": [
      "Hospitals in city Nashik : ['Nashik City Hospital', 'Healthy Life Hospital']\n"
     ]
    }
   ],
   "source": [
    "# List the names of all hospitals located in a given city\n",
    "def list_hospitals_by_city(city):\n",
    "    result = db[\"hospitals\"].find({\"location\": city}, {\"name\": 1, \"_id\": 0})\n",
    "    return [hospital[\"name\"] for hospital in result]\n",
    "\n",
    "# Example usage\n",
    "city = \"Nashik\"\n",
    "print(\"Hospitals in city\", city, \":\", list_hospitals_by_city(city))\n"
   ]
  },
  {
   "cell_type": "code",
   "execution_count": 16,
   "metadata": {},
   "outputs": [
    {
     "name": "stdout",
     "output_type": "stream",
     "text": [
      "Hospitals where Dr. Deshmukh visits: ['Nashik City Hospital', 'Healthy Life Hospital']\n"
     ]
    }
   ],
   "source": [
    "#  List the names of hospitals where Dr. Deshmukh visits\n",
    "def list_hospitals_by_doctor(doctor_name):\n",
    "    doctor = db[\"doctors\"].find_one({\"name\": doctor_name}, {\"hospital_ids\": 1, \"_id\": 0})\n",
    "    if doctor:\n",
    "        hospital_ids = doctor[\"hospital_ids\"]\n",
    "        result = db[\"hospitals\"].find({\"_id\": {\"$in\": hospital_ids}}, {\"name\": 1, \"_id\": 0})\n",
    "        return [hospital[\"name\"] for hospital in result]\n",
    "    else:\n",
    "        return []\n",
    "\n",
    "# Example usage\n",
    "doctor_name = \"Dr. Deshmukh\"\n",
    "print(\"Hospitals where\", doctor_name, \"visits:\", list_hospitals_by_doctor(doctor_name))\n"
   ]
  },
  {
   "cell_type": "code",
   "execution_count": 17,
   "metadata": {},
   "outputs": [
    {
     "name": "stdout",
     "output_type": "stream",
     "text": [
      "Hospitals with rating >= 4 : ['Nashik City Hospital', 'Healthy Life Hospital']\n"
     ]
    }
   ],
   "source": [
    "# List the names of hospitals with a rating >= 4\n",
    "def list_hospitals_by_rating(min_rating):\n",
    "    result = db[\"hospitals\"].find({\"rating\": {\"$gte\": min_rating}}, {\"name\": 1, \"_id\": 0})\n",
    "    return [hospital[\"name\"] for hospital in result]\n",
    "\n",
    "# Example usage\n",
    "min_rating = 4\n",
    "print(\"Hospitals with rating >=\", min_rating, \":\", list_hospitals_by_rating(min_rating))\n"
   ]
  },
  {
   "cell_type": "code",
   "execution_count": null,
   "metadata": {},
   "outputs": [],
   "source": []
  }
 ],
 "metadata": {
  "kernelspec": {
   "display_name": "Python 3",
   "language": "python",
   "name": "python3"
  },
  "language_info": {
   "codemirror_mode": {
    "name": "ipython",
    "version": 3
   },
   "file_extension": ".py",
   "mimetype": "text/x-python",
   "name": "python",
   "nbconvert_exporter": "python",
   "pygments_lexer": "ipython3",
   "version": "3.11.2"
  }
 },
 "nbformat": 4,
 "nbformat_minor": 2
}
