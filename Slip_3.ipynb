{
 "cells": [
  {
   "cell_type": "code",
   "execution_count": 9,
   "metadata": {},
   "outputs": [
    {
     "data": {
      "text/plain": [
       "InsertManyResult([ObjectId('671de54b3f06fdc91913c3bc'), ObjectId('671de54b3f06fdc91913c3bd'), ObjectId('671de54b3f06fdc91913c3be')], acknowledged=True)"
      ]
     },
     "execution_count": 9,
     "metadata": {},
     "output_type": "execute_result"
    }
   ],
   "source": [
    "from pymongo import MongoClient\n",
    "\n",
    "# Connect to MongoDB (Make sure MongoDB is running on localhost:27017)\n",
    "client = MongoClient(\"mongodb://localhost:27017/\")\n",
    "db = client[\"MCA_WT\"]  # Create or switch to 'company' database\n",
    "\n",
    "# Sample Collections: Employees and Departments\n",
    "employees = db[\"employees\"]\n",
    "departments = db[\"departments\"]\n",
    "\n",
    "# Clear previous data if any\n",
    "employees.delete_many({})\n",
    "departments.delete_many({})\n",
    "\n",
    "# Insert sample employee documents\n",
    "employee_data = [\n",
    "    {\"name\": \"Alice\", \"salary\": 75000, \"department_id\": 1},\n",
    "    {\"name\": \"Bob\", \"salary\": 55000, \"department_id\": 2},\n",
    "    {\"name\": \"Charlie\", \"salary\": 92000, \"department_id\": 1},\n",
    "    {\"name\": \"Diana\", \"salary\": 48000, \"department_id\": 3},\n",
    "    {\"name\": \"Evan\", \"salary\": 51000, \"department_id\": 2}\n",
    "]\n",
    "\n",
    "# Insert sample department documents\n",
    "department_data = [\n",
    "    {\"department_id\": 1, \"name\": \"Engineering\", \"employee_count\": 2},\n",
    "    {\"department_id\": 2, \"name\": \"Sales\", \"employee_count\": 2},\n",
    "    {\"department_id\": 3, \"name\": \"Marketing\", \"employee_count\": 10}\n",
    "]\n",
    "\n",
    "# Insert data into the collections\n",
    "employees.insert_many(employee_data)\n",
    "departments.insert_many(department_data)\n"
   ]
  },
  {
   "cell_type": "code",
   "execution_count": 10,
   "metadata": {},
   "outputs": [
    {
     "name": "stdout",
     "output_type": "stream",
     "text": [
      "{'_id': ObjectId('671de54b3f06fdc91913c3b9'), 'name': 'Charlie', 'salary': 92000, 'department_id': 1}\n"
     ]
    }
   ],
   "source": [
    "# Query (a): Display name of employee who has the highest salary.\n",
    "highest_salary_employee = employees.find_one(sort=[(\"salary\", -1)])\n",
    "h = employees.find().sort('salary',-1).limit(1)\n",
    "# print(\"Employee with the highest salary:\", highest_salary_employee[\"name\"])\n",
    "for i in h:\n",
    "    print(i)"
   ]
  },
  {
   "cell_type": "code",
   "execution_count": 11,
   "metadata": {},
   "outputs": [
    {
     "name": "stdout",
     "output_type": "stream",
     "text": [
      "{'_id': ObjectId('671de54b3f06fdc91913c3be'), 'department_id': 3, 'name': 'Marketing', 'employee_count': 10}\n"
     ]
    }
   ],
   "source": [
    "# Query (b): Display the biggest department with the maximum number of employees.\n",
    "# biggest_department = departments.find_one(sort=[(\"employee_count\", -1)])\n",
    "\n",
    "# print(\"Biggest department with max employees:\", biggest_department[\"name\"])\n",
    "b= departments.find().sort('employee_count',-1).limit(1)\n",
    "for i in b:\n",
    "    print(i)"
   ]
  },
  {
   "cell_type": "code",
   "execution_count": 13,
   "metadata": {},
   "outputs": [
    {
     "name": "stdout",
     "output_type": "stream",
     "text": [
      " Department Name :  Engineering\n",
      "\t Name :  Alice\n",
      "\t Name :  Charlie\n",
      " Department Name :  Sales\n",
      "\t Name :  Bob\n",
      "\t Name :  Evan\n",
      " Department Name :  Marketing\n",
      "\t Name :  Diana\n"
     ]
    }
   ],
   "source": [
    "# Query (c): Write a cursor to show department-wise employee information.\n",
    "# Iterate through each department and fetch employees in that department\n",
    "\n",
    "all_departments = departments.find()\n",
    "for d in all_departments:\n",
    "    print(' Department Name : ',d['name'])\n",
    "    emps = employees.find({'department_id':d['department_id']})\n",
    "    for e in emps:\n",
    "        print('\\t Name : ',e['name'])"
   ]
  },
  {
   "cell_type": "code",
   "execution_count": 20,
   "metadata": {},
   "outputs": [
    {
     "name": "stdout",
     "output_type": "stream",
     "text": [
      "{'_id': ObjectId('671de54b3f06fdc91913c3b8'), 'name': 'Bob', 'salary': 55000, 'department_id': 2}\n",
      "{'_id': ObjectId('671de54b3f06fdc91913c3bb'), 'name': 'Evan', 'salary': 51000, 'department_id': 2}\n"
     ]
    }
   ],
   "source": [
    "# Query (d): List all employees who work in the Sales department and have a salary greater than 50000.\n",
    "# First, find the department_id for the Sales department\n",
    "d = departments.find_one({\"name\":\"Sales\"})\n",
    "did = d['department_id']\n",
    "\n",
    "emps = employees.find({\"department_id\":did, \"salary\":{'$gt':50000}})\n",
    "for e in emps:\n",
    "    print(e)"
   ]
  },
  {
   "cell_type": "code",
   "execution_count": null,
   "metadata": {},
   "outputs": [],
   "source": []
  }
 ],
 "metadata": {
  "kernelspec": {
   "display_name": "Python 3",
   "language": "python",
   "name": "python3"
  },
  "language_info": {
   "codemirror_mode": {
    "name": "ipython",
    "version": 3
   },
   "file_extension": ".py",
   "mimetype": "text/x-python",
   "name": "python",
   "nbconvert_exporter": "python",
   "pygments_lexer": "ipython3",
   "version": "3.11.2"
  }
 },
 "nbformat": 4,
 "nbformat_minor": 2
}
