{
 "cells": [
  {
   "cell_type": "code",
   "execution_count": 11,
   "metadata": {},
   "outputs": [
    {
     "data": {
      "text/plain": [
       "InsertManyResult([ObjectId('67207c3d3721bb95b442685b'), ObjectId('67207c3d3721bb95b442685c'), ObjectId('67207c3d3721bb95b442685d'), ObjectId('67207c3d3721bb95b442685e'), ObjectId('67207c3d3721bb95b442685f')], acknowledged=True)"
      ]
     },
     "execution_count": 11,
     "metadata": {},
     "output_type": "execute_result"
    }
   ],
   "source": [
    "from pymongo import MongoClient\n",
    "from datetime import datetime\n",
    "\n",
    "# Connect to MongoDB\n",
    "client = MongoClient(\"mongodb://localhost:27017/\")\n",
    "db = client[\"MCA_WT\"]\n",
    "\n",
    "customers = db['customers']\n",
    "accounts = db['accounts']\n",
    "customers.delete_many({})\n",
    "accounts.delete_many({})\n",
    "# Define sample customer documents\n",
    "customers_data = [\n",
    "    {\"first_name\": \"Sarah\", \"last_name\": \"Smith\", \"date_opened\": datetime(2020, 1, 1), \"branch\": \"Main Branch\"},\n",
    "    {\"first_name\": \"Sam\", \"last_name\": \"Brown\", \"date_opened\": datetime(2021, 5, 10), \"branch\": \"East Branch\"},\n",
    "    {\"first_name\": \"John\", \"last_name\": \"Doe\", \"date_opened\": datetime(2020, 1, 1), \"branch\": \"Main Branch\"},\n",
    "    {\"first_name\": \"Sandra\", \"last_name\": \"White\", \"date_opened\": datetime(2019, 11, 25), \"branch\": \"North Branch\"},\n",
    "    {\"first_name\": \"Steve\", \"last_name\": \"Black\", \"date_opened\": datetime(2020, 1, 1), \"branch\": \"South Branch\"}\n",
    "]\n",
    "\n",
    "# Insert customers and get their inserted IDs\n",
    "inserted_customers = customers.insert_many(customers_data)\n",
    "customer_ids = inserted_customers.inserted_ids  # List of inserted customer IDs\n",
    "\n",
    "# Define sample accounts documents, linking each to a customer\n",
    "accounts_data = [\n",
    "    {\"customer_id\": customer_ids[0], \"account_type\": \"Saving\", \"branch\": \"Main Branch\", \"balance\": 5000.0},\n",
    "    {\"customer_id\": customer_ids[1], \"account_type\": \"Saving\", \"branch\": \"East Branch\", \"balance\": 3000.0},\n",
    "    {\"customer_id\": customer_ids[2], \"account_type\": \"Checking\", \"branch\": \"Main Branch\", \"balance\": 10000.0},\n",
    "    {\"customer_id\": customer_ids[3], \"account_type\": \"Loan\", \"branch\": \"North Branch\", \"balance\": 7000.0},\n",
    "    {\"customer_id\": customer_ids[4], \"account_type\": \"Loan\", \"branch\": \"North Branch\", \"balance\": 15000.0}\n",
    "]\n",
    "\n",
    "# Insert accounts\n",
    "accounts.insert_many(accounts_data)\n"
   ]
  },
  {
   "cell_type": "code",
   "execution_count": 12,
   "metadata": {},
   "outputs": [
    {
     "name": "stdout",
     "output_type": "stream",
     "text": [
      "Sarah Smith\n",
      "Sam Brown\n",
      "Sandra White\n",
      "Steve Black\n"
     ]
    }
   ],
   "source": [
    "# List names of all customers whose first name starts with \"S\"\n",
    "\n",
    "# Query for customers whose first name starts with 'S'\n",
    "for customer in customers.find({\"first_name\": {\"$regex\": \"^S\"}}):\n",
    "    print(customer[\"first_name\"], customer[\"last_name\"])\n",
    "\n",
    "\n",
    "# Special characters that have specific meanings:\n",
    "\n",
    "# .: Matches any single character (except newline).\n",
    "# ^: Matches the start of a string.\n",
    "# $: Matches the end of a string.\n",
    "# *: Matches 0 or more occurrences of the preceding element.\n",
    "# +: Matches 1 or more occurrences of the preceding element.\n",
    "# ?: Matches 0 or 1 occurrence of the preceding element.\n",
    "# []: Matches any one of the characters inside the brackets.\n",
    "# Example: [abc] matches \"a\", \"b\", or \"c\".\n",
    "# |: Acts as a logical OR.\n",
    "# Example: cat|dog matches \"cat\" or \"dog\".\n",
    "\n",
    "\n",
    "# --> Quantifiers: Specify how many times an element can occur:\n",
    "\n",
    "# {n}: Exactly n occurrences.\n",
    "# {n,}: At least n occurrences.\n",
    "# {n,m}: Between n and m occurrences.\n",
    "\n",
    "\n",
    "# --> Escaping Metacharacters: To match a metacharacter literally, you need to escape it with a backslash \\.\n",
    "\n",
    "# Example: \\. matches a period ..\n",
    "\n",
    "# -->   Groups and Capturing:\n",
    "# (...): Groups patterns together, allowing you to apply quantifiers to the whole group.\n",
    "# Example: (abc)+ matches one or more occurrences of \"abc\".\n",
    "\n",
    "\n"
   ]
  },
  {
   "cell_type": "code",
   "execution_count": 13,
   "metadata": {},
   "outputs": [
    {
     "name": "stdout",
     "output_type": "stream",
     "text": [
      "Sarah Smith\n",
      "John Doe\n"
     ]
    }
   ],
   "source": [
    "# List all customers who opened an account on 1/1/2020 in a specific branch\n",
    "\n",
    "# Query for customers who opened an account on 1/1/2020 in a specific branch\n",
    "branch_name = \"Main Branch\"  # specify the branch name\n",
    "for customer in customers.find({\"date_opened\": datetime(2020, 1, 1), \"branch\": branch_name}):\n",
    "    print(customer[\"first_name\"], customer[\"last_name\"])"
   ]
  },
  {
   "cell_type": "code",
   "execution_count": 14,
   "metadata": {},
   "outputs": [
    {
     "name": "stdout",
     "output_type": "stream",
     "text": [
      "Sarah Smith\n",
      "Sam Brown\n"
     ]
    }
   ],
   "source": [
    "# List the names of customers where account_type is \"Saving\"\n",
    "\n",
    "# Query for customers with \"Saving\" account type\n",
    "saving_accounts = accounts.find({\"account_type\": \"Saving\"})\n",
    "for account in saving_accounts:\n",
    "    customer = customers.find_one({\"_id\": account[\"customer_id\"]})\n",
    "    print(customer[\"first_name\"], customer[\"last_name\"])"
   ]
  },
  {
   "cell_type": "code",
   "execution_count": 15,
   "metadata": {},
   "outputs": [
    {
     "name": "stdout",
     "output_type": "stream",
     "text": [
      "Total loan account holders in North Branch : 2\n"
     ]
    }
   ],
   "source": [
    "# Count the total number of loan account holders in a specific branch\n",
    "\n",
    "# Query to count loan account holders in a specific branch\n",
    "branch_name = \"North Branch\"  # specify the branch name\n",
    "loan_accounts_count = accounts.count_documents({\"account_type\": \"Loan\", \"branch\": branch_name})\n",
    "print(\"Total loan account holders in\", branch_name, \":\", loan_accounts_count)"
   ]
  },
  {
   "cell_type": "code",
   "execution_count": null,
   "metadata": {},
   "outputs": [],
   "source": []
  },
  {
   "cell_type": "code",
   "execution_count": null,
   "metadata": {},
   "outputs": [],
   "source": []
  },
  {
   "cell_type": "code",
   "execution_count": null,
   "metadata": {},
   "outputs": [],
   "source": []
  }
 ],
 "metadata": {
  "kernelspec": {
   "display_name": "Python 3",
   "language": "python",
   "name": "python3"
  },
  "language_info": {
   "codemirror_mode": {
    "name": "ipython",
    "version": 3
   },
   "file_extension": ".py",
   "mimetype": "text/x-python",
   "name": "python",
   "nbconvert_exporter": "python",
   "pygments_lexer": "ipython3",
   "version": "3.11.2"
  }
 },
 "nbformat": 4,
 "nbformat_minor": 2
}
