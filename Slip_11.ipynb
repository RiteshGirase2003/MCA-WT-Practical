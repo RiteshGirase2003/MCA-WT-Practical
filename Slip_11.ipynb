{
 "cells": [
  {
   "cell_type": "code",
   "execution_count": null,
   "metadata": {},
   "outputs": [
    {
     "data": {
      "text/plain": [
       "InsertManyResult([1, 2, 3], acknowledged=True)"
      ]
     },
     "execution_count": 2,
     "metadata": {},
     "output_type": "execute_result"
    }
   ],
   "source": [
    "from pymongo import MongoClient\n",
    "\n",
    "# Connect to MongoDB\n",
    "client = MongoClient(\"mongodb://localhost:27017/\")\n",
    "db = client[\"MCA_WT\"]\n",
    "\n",
    "# Define the collections\n",
    "products_collection = db[\"products\"]\n",
    "customers_collection = db[\"customers\"]\n",
    "orders_collection = db[\"orders\"]\n",
    "invoices_collection = db[\"invoices\"]\n",
    "\n",
    "# Drop collections if they exist for a clean start\n",
    "products_collection.drop()\n",
    "customers_collection.drop()\n",
    "orders_collection.drop()\n",
    "invoices_collection.drop()\n",
    "\n",
    "# Sample Data for Products\n",
    "products_data = [\n",
    "    {\"_id\": 1, \"name\": \"Laptop\", \"price\": 60000, \"stock\": 20},\n",
    "    {\"_id\": 2, \"name\": \"Smartphone\", \"price\": 20000, \"stock\": 50},\n",
    "    {\"_id\": 3, \"name\": \"Tablet\", \"price\": 15000, \"stock\": 30},\n",
    "    {\"_id\": 4, \"name\": \"Headphones\", \"price\": 3000, \"stock\": 100},\n",
    "    {\"_id\": 5, \"name\": \"Monitor\", \"price\": 12000, \"stock\": 15}\n",
    "]\n",
    "\n",
    "# Sample Data for Customers\n",
    "customers_data = [\n",
    "    {\"_id\": 1, \"name\": \"Mr. Rajiv\", \"contact\": \"rajiv@example.com\"},\n",
    "    {\"_id\": 2, \"name\": \"Ms. Anita\", \"contact\": \"anita@example.com\"},\n",
    "    {\"_id\": 3, \"name\": \"Mr. Sunil\", \"contact\": \"sunil@example.com\"},\n",
    "    {\"_id\": 4, \"name\": \"Ms. Priya\", \"contact\": \"priya@example.com\"},\n",
    "    {\"_id\": 5, \"name\": \"Mr. Rahul\", \"contact\": \"rahul@example.com\"}\n",
    "]\n",
    "\n",
    "# Sample Data for Orders\n",
    "orders_data = [\n",
    "    {\"_id\": 1, \"customer_id\": 1, \"products\": [{\"product_id\": 1, \"quantity\": 1}], \"total\": 60000, \"status\": \"processed\"},\n",
    "    {\"_id\": 2, \"customer_id\": 2, \"products\": [{\"product_id\": 2, \"quantity\": 2}], \"total\": 40000, \"status\": \"processed\"},\n",
    "    {\"_id\": 3, \"customer_id\": 1, \"products\": [{\"product_id\": 4, \"quantity\": 5}], \"total\": 15000, \"status\": \"pending\"},\n",
    "    {\"_id\": 4, \"customer_id\": 3, \"products\": [{\"product_id\": 3, \"quantity\": 2}], \"total\": 30000, \"status\": \"processed\"},\n",
    "    {\"_id\": 5, \"customer_id\": 5, \"products\": [{\"product_id\": 5, \"quantity\": 1}], \"total\": 12000, \"status\": \"pending\"}\n",
    "]\n",
    "\n",
    "# Sample Data for Invoices\n",
    "invoices_data = [\n",
    "    {\"_id\": 1, \"order_id\": 1, \"invoice_date\": \"2024-10-01\", \"amount\": 60000},\n",
    "    {\"_id\": 2, \"order_id\": 2, \"invoice_date\": \"2024-10-02\", \"amount\": 40000},\n",
    "    {\"_id\": 3, \"order_id\": 4, \"invoice_date\": \"2024-10-03\", \"amount\": 30000}\n",
    "]\n",
    "\n",
    "# Insert Data into Collections\n",
    "products_collection.insert_many(products_data)\n",
    "customers_collection.insert_many(customers_data)\n",
    "orders_collection.insert_many(orders_data)\n",
    "invoices_collection.insert_many(invoices_data)\n"
   ]
  },
  {
   "cell_type": "code",
   "execution_count": 3,
   "metadata": {},
   "outputs": [
    {
     "name": "stdout",
     "output_type": "stream",
     "text": [
      "{'name': 'Laptop', 'price': 60000, 'stock': 20}\n",
      "{'name': 'Smartphone', 'price': 20000, 'stock': 50}\n",
      "{'name': 'Tablet', 'price': 15000, 'stock': 30}\n",
      "{'name': 'Headphones', 'price': 3000, 'stock': 100}\n",
      "{'name': 'Monitor', 'price': 12000, 'stock': 15}\n"
     ]
    }
   ],
   "source": [
    "# Query (a): List all products in the inventory.\n",
    "\n",
    "# Retrieve all products\n",
    "products = list(products_collection.find({}, {\"_id\": 0}))  # Exclude the '_id' field for simplicity\n",
    "for product in products:\n",
    "    print(product)"
   ]
  },
  {
   "cell_type": "code",
   "execution_count": 4,
   "metadata": {},
   "outputs": [
    {
     "name": "stdout",
     "output_type": "stream",
     "text": [
      "{'customer_id': 1, 'products': [{'product_id': 1, 'quantity': 1}], 'total': 60000, 'status': 'processed'}\n",
      "{'customer_id': 2, 'products': [{'product_id': 2, 'quantity': 2}], 'total': 40000, 'status': 'processed'}\n",
      "{'customer_id': 3, 'products': [{'product_id': 3, 'quantity': 2}], 'total': 30000, 'status': 'processed'}\n"
     ]
    }
   ],
   "source": [
    "# Query (b): List the details of orders with a value > 20000.\n",
    "\n",
    "# Retrieve orders with total greater than 20000\n",
    "high_value_orders = list(orders_collection.find({\"total\": {\"$gt\": 20000}}, {\"_id\": 0}))\n",
    "for order in high_value_orders:\n",
    "    print(order)"
   ]
  },
  {
   "cell_type": "code",
   "execution_count": 5,
   "metadata": {},
   "outputs": [
    {
     "name": "stdout",
     "output_type": "stream",
     "text": [
      "{'customer_id': 1, 'products': [{'product_id': 4, 'quantity': 5}], 'total': 15000, 'status': 'pending'}\n",
      "{'customer_id': 5, 'products': [{'product_id': 5, 'quantity': 1}], 'total': 12000, 'status': 'pending'}\n"
     ]
    }
   ],
   "source": [
    "# Query (c): List all the orders which have not been processed (invoice not generated).\n",
    "\n",
    "# Retrieve all pending orders where status is \"pending\"\n",
    "pending_orders = list(orders_collection.find({\"status\": \"pending\"}, {\"_id\": 0}))\n",
    "for order in pending_orders:\n",
    "    print(order)"
   ]
  },
  {
   "cell_type": "code",
   "execution_count": 9,
   "metadata": {},
   "outputs": [
    {
     "name": "stdout",
     "output_type": "stream",
     "text": [
      "order :  {'_id': 1, 'status': 'processed'}\n",
      "\tinvoice :  {'order_id': 1, 'invoice_date': '2024-10-01', 'amount': 60000}\n",
      "order :  {'_id': 3, 'status': 'pending'}\n"
     ]
    }
   ],
   "source": [
    "# Query (d): List all orders along with their invoices for “Mr. Rajiv”.\n",
    "\n",
    "# Get the customer ID for \"Mr. Rajiv\"\n",
    "customer = customers_collection.find_one({\"name\": \"Mr. Rajiv\"}, {\"_id\": 1})\n",
    "if customer:\n",
    "    cid = customer[\"_id\"]\n",
    "    \n",
    "    # Find all orders by this customer\n",
    "    rajiv_orders = list(orders_collection.find({\"customer_id\": cid}, {\"_id\": 1, \"status\": 1}))\n",
    "    \n",
    "    for order in rajiv_orders:\n",
    "        # Check if there's an invoice for each order\n",
    "        print(\"order : \",order)\n",
    "        if order['status'] == 'processed':\n",
    "            invoice = invoices_collection.find_one({\"order_id\": order[\"_id\"]}, {\"_id\": 0})\n",
    "            \n",
    "            print( \"\\tinvoice : \", invoice)"
   ]
  },
  {
   "cell_type": "code",
   "execution_count": null,
   "metadata": {},
   "outputs": [],
   "source": []
  },
  {
   "cell_type": "code",
   "execution_count": null,
   "metadata": {},
   "outputs": [],
   "source": []
  },
  {
   "cell_type": "code",
   "execution_count": null,
   "metadata": {},
   "outputs": [],
   "source": []
  }
 ],
 "metadata": {
  "kernelspec": {
   "display_name": "Python 3",
   "language": "python",
   "name": "python3"
  },
  "language_info": {
   "codemirror_mode": {
    "name": "ipython",
    "version": 3
   },
   "file_extension": ".py",
   "mimetype": "text/x-python",
   "name": "python",
   "nbconvert_exporter": "python",
   "pygments_lexer": "ipython3",
   "version": "3.11.2"
  }
 },
 "nbformat": 4,
 "nbformat_minor": 2
}
