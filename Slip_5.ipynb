{
 "cells": [
  {
   "cell_type": "code",
   "execution_count": 8,
   "metadata": {},
   "outputs": [
    {
     "data": {
      "text/plain": [
       "InsertManyResult([1, 2, 3, 4, 5], acknowledged=True)"
      ]
     },
     "execution_count": 8,
     "metadata": {},
     "output_type": "execute_result"
    }
   ],
   "source": [
    "from pymongo import MongoClient\n",
    "\n",
    "# Connect to MongoDB\n",
    "client = MongoClient('mongodb://localhost:27017/')\n",
    "db = client['MCA_WT']\n",
    "\n",
    "# Define and insert data for the 'projects' collection\n",
    "projects = db['projects']\n",
    "projects.delete_many({})\n",
    "projects_data = [\n",
    "    {\"_id\": 1, \"project_name\": \"AI Development\", \"project_type\": \"Technology\", \"duration_months\": 6, \"employees\": [1, 3, 5]},\n",
    "    {\"_id\": 2, \"project_name\": \"Market Research\", \"project_type\": \"Marketing\", \"duration_months\": 4, \"employees\": [2,5]},\n",
    "    {\"_id\": 3, \"project_name\": \"Website Overhaul\", \"project_type\": \"Technology\", \"duration_months\": 2, \"employees\": [1]},\n",
    "    {\"_id\": 4, \"project_name\": \"Product Launch\", \"project_type\": \"Sales\", \"duration_months\": 5, \"employees\": [2,4]},\n",
    "    {\"_id\": 5, \"project_name\": \"Customer Survey\", \"project_type\": \"Marketing\", \"duration_months\": 3, \"employees\": [3,5]}\n",
    "]\n",
    "projects.insert_many(projects_data)\n",
    "\n",
    "# Define and insert data for the 'employees' collection\n",
    "employees = db['employees']\n",
    "employees.delete_many({})\n",
    "employees_data = [\n",
    "    {\"_id\": 1, \"name\": \"Mr. Patil\", \"projects\": [1, 3]},\n",
    "    {\"_id\": 2, \"name\": \"Ms. Sharma\", \"projects\": [2, 4]},\n",
    "    {\"_id\": 3, \"name\": \"Mr. Gupta\", \"projects\": [1, 5]},\n",
    "    {\"_id\": 4, \"name\": \"Ms. Desai\", \"projects\": [4]},\n",
    "    {\"_id\": 5, \"name\": \"Mr. Rao\", \"projects\": [1, 2, 5]}\n",
    "]\n",
    "employees.insert_many(employees_data)\n",
    "\n",
    "\n"
   ]
  },
  {
   "cell_type": "code",
   "execution_count": 3,
   "metadata": {},
   "outputs": [
    {
     "name": "stdout",
     "output_type": "stream",
     "text": [
      "Projects with type 'Marketing': ['Market Research', 'Customer Survey']\n"
     ]
    }
   ],
   "source": [
    "# List all names of projects where project_type = ...\n",
    "def list_projects_by_type(project_type):\n",
    "    result = projects.find({\"project_type\": project_type}, {\"project_name\": 1, \"_id\": 0})\n",
    "    return [project[\"project_name\"] for project in result]\n",
    "\n",
    "# Example usage:\n",
    "print(\"Projects with type 'Marketing':\", list_projects_by_type(\"Marketing\"))\n"
   ]
  },
  {
   "cell_type": "code",
   "execution_count": 4,
   "metadata": {},
   "outputs": [
    {
     "name": "stdout",
     "output_type": "stream",
     "text": [
      "Projects with duration > 3 months: ['AI Development', 'Market Research', 'Product Launch']\n"
     ]
    }
   ],
   "source": [
    "# List all the projects with duration greater than 3 months\n",
    "def list_projects_duration_gt(months):\n",
    "    result = projects.find({\"duration_months\": {\"$gt\": months}}, {\"project_name\": 1, \"_id\": 0})\n",
    "    return [project[\"project_name\"] for project in result]\n",
    "\n",
    "# Example usage:\n",
    "print(\"Projects with duration > 3 months:\", list_projects_duration_gt(3))\n"
   ]
  },
  {
   "cell_type": "code",
   "execution_count": 11,
   "metadata": {},
   "outputs": [
    {
     "name": "stdout",
     "output_type": "stream",
     "text": [
      "Number of employees working on project 1 (AI Development): ['Mr. Patil', 'Mr. Gupta', 'Mr. Rao']\n"
     ]
    }
   ],
   "source": [
    "# Count the number of employees working on a specific project\n",
    "def count_employees_on_project(name):\n",
    "    emps = projects.find_one({\"project_name\":name},{'employees':1, '_id':0})\n",
    "    emp_ids = emps['employees']\n",
    "    emp_names = employees.find({'_id':{'$in':emp_ids}}, {\"name\":1,\"_id\":0})\n",
    "\n",
    "    return [ name['name'] for name in emp_names]\n",
    "# Example usage:\n",
    "project = 'AI Development'\n",
    "print(\"Number of employees working on project 1 (AI Development):\", count_employees_on_project(project))\n"
   ]
  },
  {
   "cell_type": "code",
   "execution_count": 6,
   "metadata": {},
   "outputs": [
    {
     "name": "stdout",
     "output_type": "stream",
     "text": [
      "Projects Mr. Patil is working on: ['AI Development', 'Website Overhaul']\n"
     ]
    }
   ],
   "source": [
    "# . List the names of projects on which \"Mr. Patil\" is working\n",
    "def list_projects_for_employee(employee_name):\n",
    "    employee = employees.find_one({\"name\": employee_name})\n",
    "    if employee:\n",
    "        project_ids = employee.get(\"projects\", [])\n",
    "        result = projects.find({\"_id\": {\"$in\": project_ids}}, {\"project_name\": 1, \"_id\": 0})\n",
    "        return [project[\"project_name\"] for project in result]\n",
    "    return []\n",
    "\n",
    "# Example usage:\n",
    "print(\"Projects Mr. Patil is working on:\", list_projects_for_employee(\"Mr. Patil\"))\n"
   ]
  },
  {
   "cell_type": "code",
   "execution_count": null,
   "metadata": {},
   "outputs": [],
   "source": []
  }
 ],
 "metadata": {
  "kernelspec": {
   "display_name": "Python 3",
   "language": "python",
   "name": "python3"
  },
  "language_info": {
   "codemirror_mode": {
    "name": "ipython",
    "version": 3
   },
   "file_extension": ".py",
   "mimetype": "text/x-python",
   "name": "python",
   "nbconvert_exporter": "python",
   "pygments_lexer": "ipython3",
   "version": "3.11.2"
  }
 },
 "nbformat": 4,
 "nbformat_minor": 2
}
