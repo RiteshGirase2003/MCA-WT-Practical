{
 "cells": [
  {
   "cell_type": "code",
   "execution_count": 77,
   "metadata": {},
   "outputs": [],
   "source": [
    "from pymongo import MongoClient\n",
    "\n",
    "# Connect to MongoDB\n",
    "client = MongoClient(\"mongodb://localhost:27017/\")\n",
    "\n",
    "# MCA_WT is Database name \n",
    "db = client[\"MCA_WT\"]"
   ]
  },
  {
   "cell_type": "code",
   "execution_count": 78,
   "metadata": {},
   "outputs": [
    {
     "data": {
      "text/plain": [
       "DeleteResult({'n': 5, 'ok': 1.0}, acknowledged=True)"
      ]
     },
     "execution_count": 78,
     "metadata": {},
     "output_type": "execute_result"
    }
   ],
   "source": [
    "# Collections\n",
    "owners_collection = db[\"owners\"]  # Collection for owners' information\n",
    "properties_collection = db[\"properties\"]  # Collection for property information\n",
    "\n",
    "# Clear collections for a fresh start (optional)\n",
    "owners_collection.delete_many({})  # Deletes all documents in the owners collection\n",
    "properties_collection.delete_many({})  # Deletes all documents in the properties collection\n"
   ]
  },
  {
   "cell_type": "code",
   "execution_count": 79,
   "metadata": {},
   "outputs": [
    {
     "data": {
      "text/plain": [
       "InsertManyResult([1, 2, 3], acknowledged=True)"
      ]
     },
     "execution_count": 79,
     "metadata": {},
     "output_type": "execute_result"
    }
   ],
   "source": [
    "# Sample data insertion\n",
    "# Insert owners\n",
    "# Inserting sample documents into the owners collection, each document represents an owner with an ID, name, contact, and associated property IDs.\n",
    "owners = [\n",
    "    {\"_id\": 1, \"name\": \"Mr. Patil\", \"contact\": \"1234567890\", \"properties\": [1, 2]},\n",
    "    {\"_id\": 2, \"name\": \"Ms. Sharma\", \"contact\": \"0987654321\", \"properties\": [3]},\n",
    "    {\"_id\": 3, \"name\": \"Mr. Singh\", \"contact\": \"1122334455\", \"properties\": [4, 5]}\n",
    "]\n",
    "# Insert many -> it inserts many document/records \n",
    "owners_collection.insert_many(owners)  # Insert list of documents into the owners collection\n"
   ]
  },
  {
   "cell_type": "code",
   "execution_count": 80,
   "metadata": {},
   "outputs": [
    {
     "data": {
      "text/plain": [
       "InsertManyResult([1, 2, 3, 4, 5], acknowledged=True)"
      ]
     },
     "execution_count": 80,
     "metadata": {},
     "output_type": "execute_result"
    }
   ],
   "source": [
    "# Insert properties\n",
    "# Inserting sample documents into the properties collection, each document represents a property with an ID, address, rate, area, and owner ID.\n",
    "properties = [\n",
    "    {\"_id\": 1, \"address\": {\"area\": \"Nashik Road\", \"city\": \"Nashik\"}, \"rate\": 75000, \"area\": 500, \"owner_id\": 1},\n",
    "    {\"_id\": 2, \"address\": {\"area\": \"Gangapur Road\", \"city\": \"Nashik\"}, \"rate\": 1500, \"area\": 800, \"owner_id\": 1},\n",
    "    {\"_id\": 3, \"address\": {\"area\": \"Nashik Road\", \"city\": \"Nashik\"}, \"rate\": 200000, \"area\": 1000, \"owner_id\": 2},\n",
    "    {\"_id\": 4, \"address\": {\"area\": \"Nashik Road\", \"city\": \"Nashik\"}, \"rate\": 900, \"area\": 700, \"owner_id\": 1},\n",
    "    {\"_id\": 5, \"address\": {\"area\": \"Dadar\", \"city\": \"Mumbai\"}, \"rate\": 85000, \"area\": 650, \"owner_id\": 3}\n",
    "]\n",
    "properties_collection.insert_many(properties)  # Insert list of documents into the properties collection\n"
   ]
  },
  {
   "cell_type": "code",
   "execution_count": 81,
   "metadata": {},
   "outputs": [
    {
     "name": "stdout",
     "output_type": "stream",
     "text": [
      "a. Area-wise property details:\n",
      " _id :  Gangapur Road\n",
      "\t Records : \n",
      "\t\t  {'_id': 2, 'address': {'area': 'Gangapur Road', 'city': 'Nashik'}, 'rate': 1500, 'area': 800, 'owner_id': 1}\n",
      " _id :  Nashik Road\n",
      "\t Records : \n",
      "\t\t  {'_id': 1, 'address': {'area': 'Nashik Road', 'city': 'Nashik'}, 'rate': 75000, 'area': 500, 'owner_id': 1}\n",
      "\t\t  {'_id': 3, 'address': {'area': 'Nashik Road', 'city': 'Nashik'}, 'rate': 200000, 'area': 1000, 'owner_id': 2}\n",
      "\t\t  {'_id': 4, 'address': {'area': 'Nashik Road', 'city': 'Nashik'}, 'rate': 900, 'area': 700, 'owner_id': 1}\n",
      " _id :  Dadar\n",
      "\t Records : \n",
      "\t\t  {'_id': 5, 'address': {'area': 'Dadar', 'city': 'Mumbai'}, 'rate': 85000, 'area': 650, 'owner_id': 3}\n"
     ]
    }
   ],
   "source": [
    "# a. Display area-wise property details\n",
    "print(\"a. Area-wise property details:\")\n",
    "# Using aggregate to group properties by area within the address field\n",
    "\n",
    "# \"$group\": { \"_id\": \"$address.area\" }: Groups documents by the area field inside the address subdocument.\n",
    "# \"properties\": { \"$push\": \"$$ROOT\" }: Pushes the entire document ($$ROOT) for each group into an array called properties.\n",
    "# $push : Collects values and puts them into an array.\n",
    "# $$ROOT : The entire document currently being processed.\n",
    "# $$ Prefix: Indicates that it’s a special variable in MongoDB’s aggregation.\n",
    "pipeline = [\n",
    "    \n",
    "    {\n",
    "        \"$group\": {\n",
    "            \"_id\": \"$address.area\",  # Group by the 'area' field inside the 'address' field\n",
    "            \"properties\": {\"$push\": \"$$ROOT\"}  # Collect all documents for each area into a list\n",
    "        }\n",
    "    }\n",
    "]\n",
    "area_wise_pro_array = properties_collection.aggregate(pipeline)\n",
    "\n",
    "# Iterate and print each group\n",
    "for area in area_wise_pro_array:\n",
    "    # print(area)\n",
    "    print(\" _id : \",area['_id'])\n",
    "    print(\"\\t Records : \")\n",
    "    for r in area['properties']:\n",
    "        print(\"\\t\\t \",r)\n",
    "    \n"
   ]
  },
  {
   "cell_type": "code",
   "execution_count": 82,
   "metadata": {},
   "outputs": [
    {
     "name": "stdout",
     "output_type": "stream",
     "text": [
      "Nashik Road\n",
      "\t  {'_id': 1, 'address': {'area': 'Nashik Road', 'city': 'Nashik'}, 'rate': 75000, 'area': 500, 'owner_id': 1}\n",
      "\t  {'_id': 3, 'address': {'area': 'Nashik Road', 'city': 'Mumbai'}, 'rate': 200000, 'area': 1000, 'owner_id': 2}\n",
      "\t  {'_id': 4, 'address': {'area': 'Nashik Road', 'city': 'Nashik'}, 'rate': 90000, 'area': 700, 'owner_id': 3}\n",
      "Gangapur Road\n",
      "\t  {'_id': 2, 'address': {'area': 'Gangapur Road', 'city': 'Nashik'}, 'rate': 150000, 'area': 800, 'owner_id': 1}\n",
      "Dadar\n",
      "\t  {'_id': 5, 'address': {'area': 'Dadar', 'city': 'Mumbai'}, 'rate': 85000, 'area': 650, 'owner_id': 3}\n"
     ]
    }
   ],
   "source": [
    "properties = [\n",
    "    {\"_id\": 1, \"address\": {\"area\": \"Nashik Road\", \"city\": \"Nashik\"}, \"rate\": 75000, \"area\": 500, \"owner_id\": 1},\n",
    "    {\"_id\": 2, \"address\": {\"area\": \"Gangapur Road\", \"city\": \"Nashik\"}, \"rate\": 150000, \"area\": 800, \"owner_id\": 1},\n",
    "    {\"_id\": 3, \"address\": {\"area\": \"Nashik Road\", \"city\": \"Mumbai\"}, \"rate\": 200000, \"area\": 1000, \"owner_id\": 2},\n",
    "    {\"_id\": 4, \"address\": {\"area\": \"Nashik Road\", \"city\": \"Nashik\"}, \"rate\": 90000, \"area\": 700, \"owner_id\": 3},\n",
    "    {\"_id\": 5, \"address\": {\"area\": \"Dadar\", \"city\": \"Mumbai\"}, \"rate\": 85000, \"area\": 650, \"owner_id\": 3}\n",
    "]\n",
    "\n",
    "d = {}\n",
    "\n",
    "for p in properties:\n",
    "    if p['address']['area'] not in d:\n",
    "        d[p['address']['area']] = [p]\n",
    "    else:\n",
    "        lst = d[p['address']['area']]\n",
    "        lst.append(p)\n",
    "        d[p['address']['area']] = lst\n",
    "\n",
    "for r in d:\n",
    "    print(r)\n",
    "    for i in d[r]:\n",
    "        print('\\t ',i)\n",
    "\n",
    "    \n",
    "\n"
   ]
  },
  {
   "cell_type": "code",
   "execution_count": 83,
   "metadata": {},
   "outputs": [
    {
     "name": "stdout",
     "output_type": "stream",
     "text": [
      "\n",
      "b. Property owned by 'Mr. Patil' with minimum rate:\n",
      "{'_id': 4, 'address': {'area': 'Nashik Road', 'city': 'Nashik'}, 'rate': 900, 'area': 700, 'owner_id': 1}\n"
     ]
    }
   ],
   "source": [
    "# b. Display property owned by 'Mr. Patil' having minimum rate\n",
    "\n",
    "print(\"\\nb. Property owned by 'Mr. Patil' with minimum rate:\")\n",
    "# Finding Mr. Patil's document in the owners collection\n",
    "mr_patil = owners_collection.find_one({\"name\": \"Mr. Patil\"})\n",
    "if mr_patil:\n",
    "    # Finding properties with Mr. Patil's ID and sorting by 'rate' in ascending order to get the minimum rate\n",
    "    ownerId = mr_patil[\"_id\"]\n",
    "    min_rate_property = properties_collection.find({\"owner_id\": ownerId}).sort(\"rate\", 1).limit(1)\n",
    "    for property_ in min_rate_property:\n",
    "        print(property_)\n",
    "else:\n",
    "    print(\"Mr. Patil not found in database.\")"
   ]
  },
  {
   "cell_type": "code",
   "execution_count": 91,
   "metadata": {},
   "outputs": [
    {
     "name": "stdout",
     "output_type": "stream",
     "text": [
      "\n",
      "c. Details of owner with property in Nashik:\n",
      " All properties of nashik\n",
      "{'_id': 1, 'address': {'area': 'Nashik Road', 'city': 'Nashik'}, 'rate': 75000, 'area': 500, 'owner_id': 1}\n",
      "{'_id': 2, 'address': {'area': 'Gangapur Road', 'city': 'Nashik'}, 'rate': 1500, 'area': 800, 'owner_id': 1}\n",
      "{'_id': 3, 'address': {'area': 'Nashik Road', 'city': 'Nashik'}, 'rate': 200000, 'area': 1000, 'owner_id': 2}\n",
      "{'_id': 4, 'address': {'area': 'Nashik Road', 'city': 'Nashik'}, 'rate': 900, 'area': 700, 'owner_id': 1}\n",
      "ALL owner id :  [1, 1, 2, 1]\n",
      "List of actual owner IDs :  {1, 2}\n",
      "Mr. Patil\n",
      "Ms. Sharma\n"
     ]
    }
   ],
   "source": [
    "# c. Details of owner whose property is at “Nashik”\n",
    "print(\"\\nc. Details of owner with property in Nashik:\")\n",
    "# Finding one property in Nashik city\n",
    "property_in_nashik = properties_collection.find({\"address.city\": \"Nashik\"})\n",
    "\n",
    "\n",
    "if property_in_nashik:\n",
    "    print(\" All properties of nashik\")\n",
    "\n",
    "    # for r in property_in_nashik:\n",
    "    #     print(r)\n",
    "\n",
    "\n",
    "    lst = []\n",
    "\n",
    "    for p in property_in_nashik:\n",
    "        print(p)\n",
    "        lst.append(p['owner_id'])\n",
    "\n",
    "    print('ALL owner id : ',lst)\n",
    "    lst = set(lst)\n",
    "\n",
    "    print('List of actual owner IDs : ',lst)\n",
    "    for oid in lst:\n",
    "        owner_in_nashik = owners_collection.find_one({\"_id\": oid})\n",
    "        print(owner_in_nashik['name'])\n",
    "else:\n",
    "    print(\"No property found in Nashik.\")"
   ]
  },
  {
   "cell_type": "code",
   "execution_count": 99,
   "metadata": {},
   "outputs": [
    {
     "name": "stdout",
     "output_type": "stream",
     "text": [
      "\n",
      "d. Area of property with rate less than 100000:\n",
      "{'address': {'area': 'Nashik Road', 'city': 'Nashik'}}\n",
      "{'address': {'area': 'Gangapur Road', 'city': 'Nashik'}}\n",
      "{'address': {'area': 'Nashik Road', 'city': 'Nashik'}}\n",
      "{'address': {'area': 'Dadar', 'city': 'Mumbai'}}\n"
     ]
    }
   ],
   "source": [
    "# d. Display area of property with rate less than 100000\n",
    "print(\"\\nd. Area of property with rate less than 100000:\")\n",
    "# Query to find properties where rate is less than 100000\n",
    "properties_less_than_100000 = properties_collection.find(\n",
    "    {\"rate\": {\"$lt\": 100000}},  # Filter condition for properties with rate < 100000\n",
    "    {\"address.area\": 1,\"address.city\": 1,  \"_id\": 0}  # Project only the 'area' field inside 'address'; exclude '_id' from output\n",
    ")\n",
    "\n",
    "# find( { first it is for condition }, { whats to inclued in output })\n",
    "# Iterate and print the areas of each property found\n",
    "for property_ in properties_less_than_100000:\n",
    "    print(property_)"
   ]
  },
  {
   "cell_type": "code",
   "execution_count": null,
   "metadata": {},
   "outputs": [],
   "source": []
  },
  {
   "cell_type": "code",
   "execution_count": null,
   "metadata": {},
   "outputs": [],
   "source": []
  },
  {
   "cell_type": "code",
   "execution_count": null,
   "metadata": {},
   "outputs": [],
   "source": []
  },
  {
   "cell_type": "code",
   "execution_count": null,
   "metadata": {},
   "outputs": [],
   "source": []
  }
 ],
 "metadata": {
  "kernelspec": {
   "display_name": "Python 3",
   "language": "python",
   "name": "python3"
  },
  "language_info": {
   "codemirror_mode": {
    "name": "ipython",
    "version": 3
   },
   "file_extension": ".py",
   "mimetype": "text/x-python",
   "name": "python",
   "nbconvert_exporter": "python",
   "pygments_lexer": "ipython3",
   "version": "3.11.2"
  }
 },
 "nbformat": 4,
 "nbformat_minor": 2
}
