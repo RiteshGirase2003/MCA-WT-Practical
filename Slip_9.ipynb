{
 "cells": [
  {
   "cell_type": "code",
   "execution_count": 45,
   "metadata": {},
   "outputs": [
    {
     "data": {
      "text/plain": [
       "InsertManyResult([ObjectId('67208b9c887ac5d649654310'), ObjectId('67208b9c887ac5d649654311'), ObjectId('67208b9c887ac5d649654312'), ObjectId('67208b9c887ac5d649654313'), ObjectId('67208b9c887ac5d649654314'), ObjectId('67208b9c887ac5d649654315'), ObjectId('67208b9c887ac5d649654316'), ObjectId('67208b9c887ac5d649654317'), ObjectId('67208b9c887ac5d649654318'), ObjectId('67208b9c887ac5d649654319')], acknowledged=True)"
      ]
     },
     "execution_count": 45,
     "metadata": {},
     "output_type": "execute_result"
    }
   ],
   "source": [
    "from pymongo import MongoClient\n",
    "from datetime import datetime\n",
    "\n",
    "# Connect to MongoDB\n",
    "client = MongoClient(\"mongodb://localhost:27017/\")\n",
    "db = client[\"CustomerLoanSystem\"]\n",
    "\n",
    "# Define collections\n",
    "customers = db['customers']\n",
    "loans = db['loans']\n",
    "\n",
    "customers.delete_many({})\n",
    "loans.delete_many({})\n",
    "\n",
    "# Sample customer documents\n",
    "customers_data = [\n",
    "    {\"name\":'john', \"address\": \"123 Main St, Pimpri\", 'city_loan': 'Pimpri', \"loan_amt\" : 100000 ,\"contact_number\": \"1234567890\"},\n",
    "    {\"name\":'Mr.Patil', \"address\": \"456 Park Ave, Pimpri\",'city_loan': 'Pimpri', \"loan_amt\" : 200000 ,\"contact_number\": \"0987654321\"},\n",
    "    {\"name\":'alice', \"address\": \"789 Elm St, Pune\", 'city_loan': 'Pune', \"loan_amt\" : 100000 ,\"contact_number\": \"1357924680\"},\n",
    "    {\"name\":'Abhi', \"address\": \"321 Willow St, Pimpri\", 'city_loan': 'Pimpri', \"loan_amt\" : 90000 ,\"contact_number\": \"2468135790\"},\n",
    "    {\"name\":'Mr.Patil', \"address\": \"654 Maple St, Pimpri\", 'city_loan': 'Pimpri', \"loan_amt\" : 10000 ,\"contact_number\": \"3579246801\"},\n",
    "    {\"name\":'Darshan', \"address\": \"987 Oak St, Nashik\", 'city_loan': 'Nashik',\"loan_amt\" : 100000 ,\"contact_number\": \"4681357920\"},\n",
    "    {\"name\":'Mr.Patil', \"address\": \"159 Pine St, Pimpri\", 'city_loan': 'Pimpri',\"loan_amt\" : 1000000 ,\"contact_number\": \"5792468130\"},\n",
    "    {\"name\":'Darsani', \"address\": \"753 Cedar St, Pune\", 'city_loan': 'Pune',\"loan_amt\" : 100000 ,\"contact_number\": \"6801357942\"},\n",
    "    {\"name\":'doe', \"address\": \"852 Birch St, Nashik\", 'city_loan': 'Nashik',\"loan_amt\" : 100000 ,\"contact_number\": \"7912468530\"},\n",
    "    {\"name\":'Hitesh', \"address\": \"951 Cherry St, Pimpri\", 'city_loan': 'Pimpri',\"loan_amt\" : 110000 ,\"contact_number\": \"8023579461\"},\n",
    "]\n",
    "\n",
    "# Insert customers\n",
    "customers.insert_many(customers_data)\n",
    "\n",
    "# Sample loans documents\n",
    "# loans_data = [\n",
    "#     {\"customer_id\": customers.find_one({\"first_name\": \"John\"})[\"_id\"], \"loan_type\": \"Home\", \"loan_amount\": 150000, \"branch\": \"Pimpri\", \"date_taken\": datetime(2022, 1, 15)},\n",
    "#     {\"customer_id\": customers.find_one({\"first_name\": \"David\"})[\"_id\"], \"loan_type\": \"Personal\", \"loan_amount\": 50000, \"branch\": \"Pimpri\", \"date_taken\": datetime(2022, 3, 10)},\n",
    "#     {\"customer_id\": customers.find_one({\"first_name\": \"Alice\"})[\"_id\"], \"loan_type\": \"Auto\", \"loan_amount\": 200000, \"branch\": \"Pune\", \"date_taken\": datetime(2022, 2, 20)},\n",
    "#     {\"customer_id\": customers.find_one({\"first_name\": \"Diana\"})[\"_id\"], \"loan_type\": \"Home\", \"loan_amount\": 300000, \"branch\": \"Pimpri\", \"date_taken\": datetime(2022, 4, 5)},\n",
    "#     {\"customer_id\": customers.find_one({\"first_name\": \"Patil\"})[\"_id\"], \"loan_type\": \"Business\", \"loan_amount\": 120000, \"branch\": \"Pimpri\", \"date_taken\": datetime(2022, 6, 15)},\n",
    "#     {\"customer_id\": customers.find_one({\"first_name\": \"Sophie\"})[\"_id\"], \"loan_type\": \"Personal\", \"loan_amount\": 25000, \"branch\": \"Nashik\", \"date_taken\": datetime(2022, 5, 22)},\n",
    "#     {\"customer_id\": customers.find_one({\"first_name\": \"Daniel\"})[\"_id\"], \"loan_type\": \"Home\", \"loan_amount\": 450000, \"branch\": \"Pimpri\", \"date_taken\": datetime(2022, 7, 18)},\n",
    "#     {\"customer_id\": customers.find_one({\"first_name\": \"Danielle\"})[\"_id\"], \"loan_type\": \"Education\", \"loan_amount\": 80000, \"branch\": \"Pune\", \"date_taken\": datetime(2022, 8, 10)},\n",
    "#     {\"customer_id\": customers.find_one({\"first_name\": \"Mark\"})[\"_id\"], \"loan_type\": \"Personal\", \"loan_amount\": 60000, \"branch\": \"Nashik\", \"date_taken\": datetime(2022, 9, 15)},\n",
    "#     {\"customer_id\": customers.find_one({\"first_name\": \"Derek\"})[\"_id\"], \"loan_type\": \"Home\", \"loan_amount\": 350000, \"branch\": \"Pimpri\", \"date_taken\": datetime(2022, 10, 20)},\n",
    "# ]\n",
    "\n",
    "# # Insert loans\n",
    "# loans.insert_many(loans_data)\n"
   ]
  },
  {
   "cell_type": "code",
   "execution_count": 46,
   "metadata": {},
   "outputs": [
    {
     "name": "stdout",
     "output_type": "stream",
     "text": [
      "Darshan\n",
      "Darsani\n"
     ]
    }
   ],
   "source": [
    "#  List all customers whose name starts with 'D':\n",
    "\n",
    "# Query to find customers whose first name starts with 'D'\n",
    "d_customers = customers.find({\"name\": {\"$regex\": \"^D\"}})\n",
    "for customer in d_customers:\n",
    "    print(customer['name'])"
   ]
  },
  {
   "cell_type": "code",
   "execution_count": 47,
   "metadata": {},
   "outputs": [
    {
     "name": "stdout",
     "output_type": "stream",
     "text": [
      "john\n",
      "Mr.Patil\n",
      "Mr.Patil\n",
      "Mr.Patil\n",
      "Hitesh\n",
      "Abhi\n"
     ]
    }
   ],
   "source": [
    "#  List the names of customers in descending order who have taken a loan from Pimpri city\n",
    "names = customers.find({\"city_loan\":'Pimpri'}).sort(\"name\",-1)\n",
    "for name in names:\n",
    "    print(name['name'])\n"
   ]
  },
  {
   "cell_type": "code",
   "execution_count": 48,
   "metadata": {},
   "outputs": [
    {
     "name": "stdout",
     "output_type": "stream",
     "text": [
      "Mr.Patil 1000000\n"
     ]
    }
   ],
   "source": [
    "#  Display customer details having the maximum loan amount:\n",
    "\n",
    "# Query to find the customer with the maximum loan amount\n",
    "name = customers.find_one(sort=[(\"loan_amt\", -1)])\n",
    "\n",
    "print(name['name'],name['loan_amt'])"
   ]
  },
  {
   "cell_type": "code",
   "execution_count": 49,
   "metadata": {},
   "outputs": [
    {
     "data": {
      "text/plain": [
       "UpdateResult({'n': 2, 'nModified': 2, 'ok': 1.0, 'updatedExisting': True}, acknowledged=True)"
      ]
     },
     "execution_count": 49,
     "metadata": {},
     "output_type": "execute_result"
    }
   ],
   "source": [
    "# Update the address of customer whose name is “Mr. Patil” and loan_amt is greater than 100000:\n",
    "\n",
    "# Update the address of customer \"Mr. Patil\" with a loan amount greater than 100000\n",
    "\n",
    "\n",
    "# Find the loan amount for customer \"Mr. Patil\"\n",
    "\n",
    "# Check if the loan amount is greater than 100,000\n",
    "\n",
    "    # Update the address\n",
    "customers.update_many(\n",
    "    {\"name\": \"Mr.Patil\", 'loan_amt':{\"$gt\":100000}},\n",
    "    {\"$set\": {\"address\": \"Updated Address Here\"}}\n",
    ")\n"
   ]
  },
  {
   "cell_type": "code",
   "execution_count": 50,
   "metadata": {},
   "outputs": [
    {
     "name": "stdout",
     "output_type": "stream",
     "text": [
      "{'_id': ObjectId('67208b9c887ac5d649654311'), 'name': 'Mr.Patil', 'address': 'Updated Address Here', 'city_loan': 'Pimpri', 'loan_amt': 200000, 'contact_number': '0987654321'}\n",
      "{'_id': ObjectId('67208b9c887ac5d649654314'), 'name': 'Mr.Patil', 'address': '654 Maple St, Pimpri', 'city_loan': 'Pimpri', 'loan_amt': 10000, 'contact_number': '3579246801'}\n",
      "{'_id': ObjectId('67208b9c887ac5d649654316'), 'name': 'Mr.Patil', 'address': 'Updated Address Here', 'city_loan': 'Pimpri', 'loan_amt': 1000000, 'contact_number': '5792468130'}\n"
     ]
    }
   ],
   "source": [
    "names = customers.find({\"name\":'Mr.Patil'})\n",
    "for name in names :\n",
    "    print(name)"
   ]
  },
  {
   "cell_type": "code",
   "execution_count": null,
   "metadata": {},
   "outputs": [],
   "source": []
  },
  {
   "cell_type": "code",
   "execution_count": null,
   "metadata": {},
   "outputs": [],
   "source": []
  },
  {
   "cell_type": "code",
   "execution_count": null,
   "metadata": {},
   "outputs": [],
   "source": []
  },
  {
   "cell_type": "code",
   "execution_count": null,
   "metadata": {},
   "outputs": [],
   "source": []
  },
  {
   "cell_type": "code",
   "execution_count": null,
   "metadata": {},
   "outputs": [],
   "source": []
  }
 ],
 "metadata": {
  "kernelspec": {
   "display_name": "Python 3",
   "language": "python",
   "name": "python3"
  },
  "language_info": {
   "codemirror_mode": {
    "name": "ipython",
    "version": 3
   },
   "file_extension": ".py",
   "mimetype": "text/x-python",
   "name": "python",
   "nbconvert_exporter": "python",
   "pygments_lexer": "ipython3",
   "version": "3.11.2"
  }
 },
 "nbformat": 4,
 "nbformat_minor": 2
}
