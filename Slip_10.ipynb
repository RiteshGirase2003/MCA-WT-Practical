{
 "cells": [
  {
   "cell_type": "code",
   "execution_count": 13,
   "metadata": {},
   "outputs": [
    {
     "data": {
      "text/plain": [
       "InsertManyResult([ObjectId('672a2e06abed74c341b1ff4c'), ObjectId('672a2e06abed74c341b1ff4d'), ObjectId('672a2e06abed74c341b1ff4e'), ObjectId('672a2e06abed74c341b1ff4f'), ObjectId('672a2e06abed74c341b1ff50')], acknowledged=True)"
      ]
     },
     "execution_count": 13,
     "metadata": {},
     "output_type": "execute_result"
    }
   ],
   "source": [
    "from pymongo import MongoClient\n",
    "from datetime import datetime\n",
    "\n",
    "# Connect to MongoDB\n",
    "client = MongoClient(\"mongodb://localhost:27017/\")\n",
    "db = client[\"MCA_WT\"]\n",
    "\n",
    "# Define collections\n",
    "customers = db['customers']\n",
    "products = db['products']\n",
    "brands = db['brands']\n",
    "orders = db['orders']\n",
    "\n",
    "customers.delete_many({})\n",
    "products.delete_many({})\n",
    "brands.delete_many({})\n",
    "orders.delete_many({})\n",
    "\n",
    "# Sample brand documents\n",
    "brands_data = [\n",
    "    {\"brand_name\": \"BrandA\", \"rating\": 4.9},\n",
    "    {\"brand_name\": \"BrandB\", \"rating\": 4.2},\n",
    "    {\"brand_name\": \"BrandC\", \"rating\": 4.5},\n",
    "    {\"brand_name\": \"BrandD\", \"rating\": 4.9},\n",
    "    {\"brand_name\": \"BrandE\", \"rating\": 4.9}\n",
    "]\n",
    "\n",
    "brands.insert_many(brands_data)\n",
    "\n",
    "# Sample product documents\n",
    "products_data = [\n",
    "    {\"product_name\": \"PhoneA\", \"brand_name\": \"BrandA\", \"warranty_period\": 1, \"rating\": 4.6},\n",
    "    {\"product_name\": \"LaptopB\", \"brand_name\": \"BrandB\", \"warranty_period\": 2, \"rating\": 4.7},\n",
    "    {\"product_name\": \"TabletC\", \"brand_name\": \"BrandC\", \"warranty_period\": 1, \"rating\": 4.8},\n",
    "    {\"product_name\": \"CameraD\", \"brand_name\": \"BrandD\", \"warranty_period\": 6, \"rating\": 4.5},\n",
    "    {\"product_name\": \"HeadphonesE\", \"brand_name\": \"BrandE\", \"warranty_period\": 1, \"rating\": 4.9}\n",
    "]\n",
    "\n",
    "products.insert_many(products_data)\n",
    "\n",
    "# Sample customer documents\n",
    "customers_data = [\n",
    "    {\"customer_name\": \"John Doe\", \"city\": \"CityA\", \"contact_number\": \"1234567890\"},\n",
    "    {\"customer_name\": \"Jane Smith\", \"city\": \"CityB\", \"contact_number\": \"0987654321\"},\n",
    "    {\"customer_name\": \"Alice Johnson\", \"city\": \"CityA\", \"contact_number\": \"1357924680\"},\n",
    "    {\"customer_name\": \"David Brown\", \"city\": \"CityC\", \"contact_number\": \"2468135790\"},\n",
    "    {\"customer_name\": \"Patricia Green\", \"city\": \"CityB\", \"contact_number\": \"3579246801\"}\n",
    "]\n",
    "\n",
    "customers.insert_many(customers_data)\n",
    "\n",
    "# Sample orders documents\n",
    "orders_data = [\n",
    "    {\"customer_id\": customers.find_one({\"customer_name\": \"John Doe\"})[\"_id\"], \"product_name\": \"PhoneA\", \"purchase_date\": datetime(2023, 8, 15), \"bill_amount\": 55000},\n",
    "    {\"customer_id\": customers.find_one({\"customer_name\": \"Jane Smith\"})[\"_id\"], \"product_name\": \"LaptopB\", \"purchase_date\": datetime(2023, 8, 10), \"bill_amount\": 45000},\n",
    "    {\"customer_id\": customers.find_one({\"customer_name\": \"Alice Johnson\"})[\"_id\"], \"product_name\": \"TabletC\", \"purchase_date\": datetime(2023, 8, 15), \"bill_amount\": 30000},\n",
    "    {\"customer_id\": customers.find_one({\"customer_name\": \"David Brown\"})[\"_id\"], \"product_name\": \"CameraD\", \"purchase_date\": datetime(2023, 8, 5), \"bill_amount\": 20000},\n",
    "    {\"customer_id\": customers.find_one({\"customer_name\": \"Patricia Green\"})[\"_id\"], \"product_name\": \"HeadphonesE\", \"purchase_date\": datetime(2023, 8, 20), \"bill_amount\": 60000}\n",
    "]\n",
    "\n",
    "orders.insert_many(orders_data)\n"
   ]
  },
  {
   "cell_type": "code",
   "execution_count": 14,
   "metadata": {},
   "outputs": [
    {
     "name": "stdout",
     "output_type": "stream",
     "text": [
      "PhoneA\n",
      "TabletC\n",
      "HeadphonesE\n"
     ]
    }
   ],
   "source": [
    "# List the names of products with a warranty period of one year.\n",
    "\n",
    "products_with_warranty = products.find({\"warranty_period\": 1}, {\"product_name\": 1, \"_id\": 0})\n",
    "for product in products_with_warranty:\n",
    "    print(product['product_name'])"
   ]
  },
  {
   "cell_type": "code",
   "execution_count": 15,
   "metadata": {},
   "outputs": [
    {
     "name": "stdout",
     "output_type": "stream",
     "text": [
      "John Doe\n",
      "Alice Johnson\n"
     ]
    }
   ],
   "source": [
    "# List customers who made a purchase on “15/08/2023”.\n",
    "\n",
    "purchase_date = datetime(2023, 8, 15)\n",
    "purchases_on_date = orders.find({\"purchase_date\": purchase_date})\n",
    "\n",
    "\n",
    "\n",
    "for order in purchases_on_date:\n",
    "    customer = customers.find_one({\"_id\": order[\"customer_id\"]}, {\"customer_name\": 1, \"_id\": 0})\n",
    "    print(customer['customer_name'])"
   ]
  },
  {
   "cell_type": "code",
   "execution_count": 27,
   "metadata": {},
   "outputs": [
    {
     "name": "stdout",
     "output_type": "stream",
     "text": [
      "4.9\n",
      "['BrandA', 'BrandD', 'BrandE']\n",
      "PhoneA BrandA\n",
      "CameraD BrandD\n",
      "HeadphonesE BrandE\n"
     ]
    }
   ],
   "source": [
    "#  Display the names of products with brands that have the highest rating.\n",
    "\n",
    "# Find the highest brand rating\n",
    "highest_rating = brands.find_one(sort=[(\"rating\", -1)])\n",
    "\n",
    "print(highest_rating['rating'])\n",
    "\n",
    "\n",
    "# Find brands with the highest rating\n",
    "top_brands = brands.find({\"rating\": highest_rating['rating']})\n",
    "\n",
    "# for brand in top_brands:\n",
    "#     products_with_top_brand = products.find({\"brand_name\": brand[\"brand_name\"]}, {\"product_name\": 1, \"_id\": 0})\n",
    "#     print(\"brand : \", brand[\"brand_name\"])\n",
    "#     for product in products_with_top_brand:\n",
    "#         print(\"\\t product : \", product[\"product_name\"])\n",
    "\n",
    "\n",
    "bname = []\n",
    "for brand in top_brands:\n",
    "    bname.append(brand[\"brand_name\"])\n",
    "\n",
    "print(bname)\n",
    "\n",
    "products_names = products.find({\"brand_name\" : { \"$in\" : bname}} , {\"product_name\": 1, \"brand_name\":1 ,\"_id\": 0})\n",
    "for p in products_names:\n",
    "    print(p['product_name'], p['brand_name'])\n",
    "\n"
   ]
  },
  {
   "cell_type": "code",
   "execution_count": null,
   "metadata": {},
   "outputs": [
    {
     "name": "stdout",
     "output_type": "stream",
     "text": [
      "{'customer_name': 'Patricia Green', 'bill_amount': 60000}\n"
     ]
    }
   ],
   "source": [
    "# Display customers who live in a specified city and have a bill amount greater than 50000.\n",
    "specified_city = \"CityB\"\n",
    "min_bill_amount = 50000\n",
    "\n",
    "cid = orders.find({\"bill_amount\": {\"$gt\": min_bill_amount}})\n",
    "# Find customers in the specified city with high bill amounts\n",
    "for order in cid:\n",
    "    customer = customers.find_one({\"_id\": order[\"customer_id\"], \"city\": specified_city}, {\"customer_name\": 1, \"_id\": 0})\n",
    "    \n",
    "    if customer:\n",
    "        print({\"customer_name\": customer[\"customer_name\"], \"bill_amount\": order[\"bill_amount\"]})\n"
   ]
  },
  {
   "cell_type": "code",
   "execution_count": null,
   "metadata": {},
   "outputs": [],
   "source": []
  },
  {
   "cell_type": "code",
   "execution_count": null,
   "metadata": {},
   "outputs": [],
   "source": []
  }
 ],
 "metadata": {
  "kernelspec": {
   "display_name": "Python 3",
   "language": "python",
   "name": "python3"
  },
  "language_info": {
   "codemirror_mode": {
    "name": "ipython",
    "version": 3
   },
   "file_extension": ".py",
   "mimetype": "text/x-python",
   "name": "python",
   "nbconvert_exporter": "python",
   "pygments_lexer": "ipython3",
   "version": "3.11.2"
  }
 },
 "nbformat": 4,
 "nbformat_minor": 2
}
