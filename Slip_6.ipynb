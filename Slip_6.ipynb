{
 "cells": [
  {
   "cell_type": "code",
   "execution_count": 39,
   "metadata": {},
   "outputs": [
    {
     "data": {
      "text/plain": [
       "InsertManyResult([1, 2, 3, 4, 5], acknowledged=True)"
      ]
     },
     "execution_count": 39,
     "metadata": {},
     "output_type": "execute_result"
    }
   ],
   "source": [
    "from pymongo import MongoClient\n",
    "\n",
    "# Connect to MongoDB\n",
    "client = MongoClient('mongodb://localhost:27017/')\n",
    "db = client['MCA_WT']\n",
    "\n",
    "# Define and insert data for the 'policies' collection\n",
    "policies = db['policies']\n",
    "policies.delete_many({})\n",
    "policies_data = [\n",
    "    {\"_id\": 1, \"policy_name\": \"Komal Jeevan\", \"policy_type\": \"Half Yearly\", \"premium_amount\": 5000, \"company\": \"Company A\", \"customers\" : [1,2]},\n",
    "    {\"_id\": 2, \"policy_name\": \"Life Secure\", \"policy_type\": \"Half Yearly\", \"premium_amount\": 12000, \"company\": \"Company B\", \"customers\" : [1,4]},\n",
    "    {\"_id\": 3, \"policy_name\": \"Health Guard\", \"policy_type\": \"Half Yearly\", \"premium_amount\": 7000, \"company\": \"Company A\", \"customers\" : [2]},\n",
    "    {\"_id\": 4, \"policy_name\": \"Family Protect\", \"policy_type\": \"Monthly\", \"premium_amount\": 4000, \"company\": \"Company D\", \"customers\" : [3,5]}\n",
    "]\n",
    "policies.insert_many(policies_data)\n",
    "\n",
    "# Define and insert data for the 'customers' collection\n",
    "customers = db['customers']\n",
    "customers.delete_many({})\n",
    "customers_data = [\n",
    "    {\"_id\": 1, \"name\": \"Alice\", \"age\": 30, \"policies\": [1, 2]},\n",
    "    {\"_id\": 2, \"name\": \"Bob\", \"age\": 45, \"policies\": [1, 3]},\n",
    "    {\"_id\": 3, \"name\": \"Charlie\", \"age\": 29, \"policies\": [4]},\n",
    "    {\"_id\": 4, \"name\": \"David\", \"age\": 35, \"policies\": [2]},\n",
    "    {\"_id\": 5, \"name\": \"Eve\", \"age\": 40, \"policies\": [4]}\n",
    "]\n",
    "customers.insert_many(customers_data)\n"
   ]
  },
  {
   "cell_type": "code",
   "execution_count": 40,
   "metadata": {},
   "outputs": [
    {
     "name": "stdout",
     "output_type": "stream",
     "text": [
      "Customers with 'Komal Jeevan' Policy: ['Alice', 'Bob']\n"
     ]
    }
   ],
   "source": [
    "# List the details of customers who have taken “Komal Jeevan” Policy\n",
    "\n",
    "def fun(policy_name):\n",
    "    ids = policies.find_one({'policy_name':policy_name},{\"customers\":1,\"_id\":0})\n",
    "    cid = ids['customers']\n",
    "    if cid:\n",
    "        names = customers.find({\"_id\": {\"$in\": cid}},{\"name\":1,\"_id\":0})\n",
    "        return [ n['name'] for n in names]\n",
    "    return []\n",
    "\n",
    "# Example usage:\n",
    "lst = fun(\"Komal Jeevan\")\n",
    "print(\"Customers with 'Komal Jeevan' Policy:\", lst)"
   ]
  },
  {
   "cell_type": "code",
   "execution_count": 41,
   "metadata": {},
   "outputs": [
    {
     "name": "stdout",
     "output_type": "stream",
     "text": [
      "Average Premium Amount: 7000.0\n"
     ]
    }
   ],
   "source": [
    "# Display average premium amount\n",
    "\n",
    "def average_premium_amount():\n",
    "    # groups all documents together (since _id is set to None) and calculates the average value of the premium_amount field across those documents, storing the result in a new field called average_premium.\n",
    "    pipeline = [\n",
    "        {\"$group\": {\"_id\": None, \"average_premium\": {\"$avg\": \"$premium_amount\"}}}  #It calculates the average of the premium_amount field across all documents.\n",
    "    ]\n",
    "    result = policies.aggregate(pipeline)\n",
    "    for i in result:\n",
    "        avg = i['average_premium']\n",
    "    return avg\n",
    "\n",
    "# Example usage:\n",
    "avg_premium = average_premium_amount()\n",
    "print(\"Average Premium Amount:\", avg_premium)"
   ]
  },
  {
   "cell_type": "code",
   "execution_count": 42,
   "metadata": {},
   "outputs": [
    {
     "name": "stdout",
     "output_type": "stream",
     "text": [
      "Increased premium amounts for monthly policies.\n"
     ]
    }
   ],
   "source": [
    "#  Increase the premium amount by 5% for policy type “Monthly”\n",
    "def increase_monthly_premium():\n",
    "    policies.update_many(\n",
    "        {\"policy_type\": \"Monthly\"},\n",
    "        {\"$mul\": {\"premium_amount\": 0.05}}\n",
    "        # $mul operator in MongoDB is used to perform multiplication on a field's value\n",
    "    )\n",
    "\n",
    "# Example usage:\n",
    "increase_monthly_premium()\n",
    "print(\"Increased premium amounts for monthly policies.\")"
   ]
  },
  {
   "cell_type": "code",
   "execution_count": 45,
   "metadata": {},
   "outputs": [
    {
     "name": "stdout",
     "output_type": "stream",
     "text": [
      "Number of customers with 'Half Yearly' policy: ['Alice', 'Bob', 'David']\n"
     ]
    }
   ],
   "source": [
    "# Count the number of customers who have taken policy type “Half Yearly”\n",
    "\n",
    "def count_customers_with_half_yearly_policy():\n",
    "    policy = policies.find({\"policy_type\": \"Half Yearly\"}, {\"_id\": 0,'customers':1})\n",
    "    cid = []\n",
    "    for p in policy:\n",
    "        cid.extend(p['customers'])\n",
    "    cid = list(set(cid))\n",
    "\n",
    "    cnames = customers.find({\"_id\":{\"$in\":cid}},{'name':1,\"_id\":0})\n",
    "    if cnames:\n",
    "        return [ c['name'] for c in cnames]\n",
    "    return []\n",
    "# Example usage:\n",
    "half_yearly_customer_count = count_customers_with_half_yearly_policy()\n",
    "print(\"Number of customers with 'Half Yearly' policy:\", half_yearly_customer_count)"
   ]
  },
  {
   "cell_type": "code",
   "execution_count": null,
   "metadata": {},
   "outputs": [],
   "source": []
  },
  {
   "cell_type": "code",
   "execution_count": null,
   "metadata": {},
   "outputs": [],
   "source": []
  },
  {
   "cell_type": "code",
   "execution_count": null,
   "metadata": {},
   "outputs": [],
   "source": []
  },
  {
   "cell_type": "code",
   "execution_count": null,
   "metadata": {},
   "outputs": [],
   "source": []
  },
  {
   "cell_type": "code",
   "execution_count": null,
   "metadata": {},
   "outputs": [],
   "source": []
  }
 ],
 "metadata": {
  "kernelspec": {
   "display_name": "Python 3",
   "language": "python",
   "name": "python3"
  },
  "language_info": {
   "codemirror_mode": {
    "name": "ipython",
    "version": 3
   },
   "file_extension": ".py",
   "mimetype": "text/x-python",
   "name": "python",
   "nbconvert_exporter": "python",
   "pygments_lexer": "ipython3",
   "version": "3.11.2"
  }
 },
 "nbformat": 4,
 "nbformat_minor": 2
}
